{
 "cells": [
  {
   "cell_type": "markdown",
   "metadata": {},
   "source": [
    "# Monte-Carlo Simulations"
   ]
  },
  {
   "cell_type": "markdown",
   "metadata": {},
   "source": [
    "We'll be using the htex configuration for Parsl. Read more [here.]( https://github.com/Parsl/parsl/blob/master/parsl/configs/htex_local.py)"
   ]
  },
  {
   "cell_type": "code",
   "execution_count": 1,
   "metadata": {},
   "outputs": [
    {
     "data": {
      "text/plain": [
       "<parsl.dataflow.dflow.DataFlowKernel at 0x116e51090>"
      ]
     },
     "execution_count": 1,
     "metadata": {},
     "output_type": "execute_result"
    }
   ],
   "source": [
    "import numpy as np\n",
    "\n",
    "import parsl\n",
    "import os\n",
    "from parsl.app.app import python_app, bash_app\n",
    "from parsl.configs.local_threads import config\n",
    "\n",
    "parsl.load(config)"
   ]
  },
  {
   "cell_type": "markdown",
   "metadata": {},
   "source": [
    "Let us work with a simple trading function that estimates the change in a stock if there is a volatility of 0.5% every day."
   ]
  },
  {
   "cell_type": "code",
   "execution_count": 12,
   "metadata": {},
   "outputs": [],
   "source": [
    "# Building a python app that generates a random percentage between 5 and -5, and then adjusts the stock price.\n",
    "\n",
    "@python_app\n",
    "def stock_price(price):\n",
    "    import random\n",
    "    percentage_change = 10*random.random()-5\n",
    "    \n",
    "    return price*(100+percentage_change)/100"
   ]
  },
  {
   "cell_type": "code",
   "execution_count": 13,
   "metadata": {},
   "outputs": [],
   "source": [
    "# Evaluating the final prices\n",
    "\n",
    "final_prices = []\n",
    "\n",
    "for _ in range(1000): ## A 1000 simulations\n",
    "    \n",
    "    original_price = 15\n",
    "    for i in range(100): # For each simulation, we simulate the stock price over 100 days\n",
    "        original_price = stock_price(original_price)\n",
    "    \n",
    "    final_prices.append(original_price)"
   ]
  },
  {
   "cell_type": "code",
   "execution_count": 14,
   "metadata": {},
   "outputs": [],
   "source": [
    "final_prices = [i.result() for i in final_prices]"
   ]
  },
  {
   "cell_type": "code",
   "execution_count": 15,
   "metadata": {},
   "outputs": [
    {
     "name": "stdout",
     "output_type": "stream",
     "text": [
      "Mean Stock Price:  14.997282534086265\n",
      "95% Confidence Interval of Stock Price:  (8.376405065492756, 24.94800827624307)\n"
     ]
    }
   ],
   "source": [
    "print('Mean Stock Price: ', np.mean(final_prices))\n",
    "print('95% Confidence Interval of Stock Price: ', (np.percentile(final_prices,2.5),\n",
    "                                                   np.percentile(final_prices,97.5)))"
   ]
  }
 ],
 "metadata": {
  "kernelspec": {
   "display_name": "Python 3",
   "language": "python",
   "name": "python3"
  },
  "language_info": {
   "codemirror_mode": {
    "name": "ipython",
    "version": 3
   },
   "file_extension": ".py",
   "mimetype": "text/x-python",
   "name": "python",
   "nbconvert_exporter": "python",
   "pygments_lexer": "ipython3",
   "version": "3.7.4"
  }
 },
 "nbformat": 4,
 "nbformat_minor": 2
}
