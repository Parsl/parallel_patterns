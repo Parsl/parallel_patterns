{
 "cells": [
  {
   "cell_type": "markdown",
   "metadata": {},
   "source": [
    "# Mathematical Techniques"
   ]
  },
  {
   "cell_type": "markdown",
   "metadata": {
    "tags": []
   },
   "source": [
    "Note that Parsl is not effective if multiple CPU cores aren't available because Parsl's ability to execute tasks in parallel is depenedent on the availability multiple cores."
   ]
  },
  {
   "cell_type": "code",
   "execution_count": 1,
   "metadata": {
    "tags": []
   },
   "outputs": [
    {
     "name": "stdout",
     "output_type": "stream",
     "text": [
      "Cores available: 4\n"
     ]
    }
   ],
   "source": [
    "import multiprocessing\n",
    "print('Cores available: {}'.format(multiprocessing.cpu_count()))"
   ]
  },
  {
   "cell_type": "markdown",
   "metadata": {},
   "source": [
    "### Importing Libraries and Configuration"
   ]
  },
  {
   "cell_type": "markdown",
   "metadata": {},
   "source": [
    "We'll be using the htex configuration for Parsl. Read more [here.]( https://github.com/Parsl/parsl/blob/master/parsl/configs/htex_local.py)"
   ]
  },
  {
   "cell_type": "code",
   "execution_count": 5,
   "metadata": {},
   "outputs": [
    {
     "data": {
      "text/plain": [
       "<parsl.dataflow.dflow.DataFlowKernel at 0x11769a150>"
      ]
     },
     "execution_count": 5,
     "metadata": {},
     "output_type": "execute_result"
    },
    {
     "name": "stderr",
     "output_type": "stream",
     "text": [
      "Process HTEX-Interchange:\n",
      "Traceback (most recent call last):\n",
      "  File \"/usr/local/Cellar/python/3.7.4/Frameworks/Python.framework/Versions/3.7/lib/python3.7/multiprocessing/process.py\", line 297, in _bootstrap\n",
      "    self.run()\n",
      "  File \"/usr/local/Cellar/python/3.7.4/Frameworks/Python.framework/Versions/3.7/lib/python3.7/multiprocessing/process.py\", line 99, in run\n",
      "    self._target(*self._args, **self._kwargs)\n",
      "  File \"/usr/local/lib/python3.7/site-packages/parsl/executors/high_throughput/interchange.py\", line 564, in starter\n",
      "    ic.start()\n",
      "  File \"/usr/local/lib/python3.7/site-packages/parsl/executors/high_throughput/interchange.py\", line 367, in start\n",
      "    self.socks = dict(poller.poll(timeout=poll_period))\n",
      "  File \"/usr/local/lib/python3.7/site-packages/zmq/sugar/poll.py\", line 99, in poll\n",
      "    return zmq_poll(self.sockets, timeout=timeout)\n",
      "  File \"zmq/backend/cython/_poll.pyx\", line 123, in zmq.backend.cython._poll.zmq_poll\n",
      "  File \"zmq/backend/cython/checkrc.pxd\", line 12, in zmq.backend.cython.checkrc._check_rc\n",
      "KeyboardInterrupt\n"
     ]
    }
   ],
   "source": [
    "import numpy as np\n",
    "import parsl\n",
    "import os\n",
    "from parsl.app.app import python_app, bash_app\n",
    "from parsl.providers import LocalProvider\n",
    "from parsl.channels import LocalChannel\n",
    "\n",
    "from parsl.config import Config\n",
    "from parsl.executors import HighThroughputExecutor\n",
    "\n",
    "config = Config(\n",
    "    executors=[\n",
    "        HighThroughputExecutor(\n",
    "            label=\"htex_local\",\n",
    "            cores_per_worker=1,\n",
    "            provider=LocalProvider(\n",
    "                channel=LocalChannel(),\n",
    "                init_blocks=1,\n",
    "                max_blocks=1,\n",
    "            ),\n",
    "        )\n",
    "    ],\n",
    ")\n",
    "\n",
    "parsl.load(config)"
   ]
  },
  {
   "cell_type": "markdown",
   "metadata": {},
   "source": [
    "## Block Method of Matrix Multiplication"
   ]
  },
  {
   "cell_type": "markdown",
   "metadata": {},
   "source": [
    "The block method of matrix multiplication between two matrices A and B of sizes sXq and rXs is as follows:\n",
    "\n",
    "![](./images/formula.png)"
   ]
  },
  {
   "cell_type": "markdown",
   "metadata": {},
   "source": [
    "We carry out the operation above for two matrices A and B. "
   ]
  },
  {
   "cell_type": "code",
   "execution_count": 8,
   "metadata": {},
   "outputs": [],
   "source": [
    "matrix_a = [[2,3,4,5],[4,5,6,7],[4,5,6,7]]\n",
    "matrix_b = [[3,4],[4,5],[6,7],[8,9]]"
   ]
  },
  {
   "cell_type": "code",
   "execution_count": 9,
   "metadata": {},
   "outputs": [],
   "source": [
    "# A python app for multiplying corresponding elements\n",
    "@python_app\n",
    "def multiply(inputs=[]):\n",
    "    return inputs[0]*inputs[1]\n",
    "\n",
    "@python_app\n",
    "def sum_elements(inputs=[]):\n",
    "    return sum(inputs)"
   ]
  },
  {
   "cell_type": "code",
   "execution_count": 10,
   "metadata": {},
   "outputs": [],
   "source": [
    "# A Function for two matrices that uses the block method to multiply them.\n",
    "\n",
    "def multiply_matrices(A,B):\n",
    "    C = [[0 for _ in range(len(B[0]))] for _ in range(len(A))] # Result matrix\n",
    "    \n",
    "    for q in range(len(A)):\n",
    "        for r in range(len(B[0])):\n",
    "            \n",
    "            s = len(A[0])\n",
    "            \n",
    "            elements = []\n",
    "            for i in range(s):\n",
    "                elements.append(multiply(inputs=[A[q][i],B[i][r]])) # Multiplying elements\n",
    "            elements = [i.result() for i in elements] # evaluation for each row\n",
    "            C[q][r] = sum_elements(inputs=elements)\n",
    "            \n",
    "    C = [[element.result() for element in row] for row in C]\n",
    "    \n",
    "    return C"
   ]
  },
  {
   "cell_type": "code",
   "execution_count": null,
   "metadata": {},
   "outputs": [],
   "source": [
    "# Example implementation for our given example above.\n",
    "multiply_matrices(matrix_a, matrix_b)"
   ]
  },
  {
   "cell_type": "markdown",
   "metadata": {},
   "source": [
    "## Markov Chains"
   ]
  },
  {
   "cell_type": "markdown",
   "metadata": {},
   "source": [
    "We build a simple implementation of markov chains using Parsl. A Markov Chain is a chain of samples obtained using a transition matrix. Each sample is only dependent on the sample before it. We'll run 5 different chains for different amount of steps."
   ]
  },
  {
   "cell_type": "markdown",
   "metadata": {},
   "source": [
    "This will use the Parsl code for the block multiplication of matrices."
   ]
  },
  {
   "cell_type": "code",
   "execution_count": 2,
   "metadata": {},
   "outputs": [],
   "source": [
    "def multiply_matrices_for_markov(A,B):\n",
    "    C = [[0 for _ in range(len(B[0]))] for _ in range(len(A))] # Result matrix\n",
    "    \n",
    "    for q in range(len(A)):\n",
    "        for r in range(len(B[0])):\n",
    "            \n",
    "            s = len(A[0])\n",
    "            \n",
    "            elements = []\n",
    "            for i in range(s):\n",
    "                elements.append(multiply(inputs=[A[q][i],B[i][r]])) \n",
    "                # Multiplying elements\n",
    "                \n",
    "            elements = [i.result() for i in elements] \n",
    "            # evaluation for each row\n",
    "            \n",
    "            C[q][r] = sum_elements(inputs=elements) \n",
    "            # Implementing each element as sum of the multiplied elements\n",
    "    return C"
   ]
  },
  {
   "cell_type": "code",
   "execution_count": 6,
   "metadata": {},
   "outputs": [],
   "source": [
    "transition_matrix = np.array([[0.5,0.1,0.3],[0.25,0.1,0.1],[0.25,0.8,0.6]])\n",
    "# This is the transition probability kernel that maps \n",
    "# the probability for going from one state to the other\n",
    "\n",
    "initial_state = np.array([[5],[6],[1]]) "
   ]
  },
  {
   "cell_type": "code",
   "execution_count": null,
   "metadata": {},
   "outputs": [],
   "source": [
    "matrices = []\n",
    "for num_steps in [50,100,200,300,400,500]: # For different burn-in points\n",
    "    new_matrix = initial_state\n",
    "    \n",
    "    for i in range(num_steps): \n",
    "        # Evaluating the matrix multiplications sequentially\n",
    "        new_matrix = multiply_matrices_for_markov(transition_matrix,new_matrix)\n",
    "        \n",
    "    matrices.append(new_matrix) \n",
    "    # Collecting the final matrix at the end of the markov process"
   ]
  },
  {
   "cell_type": "code",
   "execution_count": null,
   "metadata": {},
   "outputs": [],
   "source": [
    "final_results = []\n",
    "for matrix in matrices: \n",
    "    \n",
    "    matrix = [[element.result() for element in row] for row in matrix] \n",
    "    # Evaluating the final results\n",
    "    \n",
    "    final_results.append(matrix)"
   ]
  },
  {
   "cell_type": "code",
   "execution_count": null,
   "metadata": {},
   "outputs": [
    {
     "data": {
      "text/plain": [
       "[[[0.1983927918536169], [0.09029527985910066], [0.16614698623108165]],\n",
       " [[0.006286751531417793], [0.002861313577122536], [0.0052649333192478125]],\n",
       " [[6.312873847410822e-06], [2.873202727988958e-06], [5.286809840239664e-06]],\n",
       " [[6.339104705214262e-09], [2.8851412799100054e-09], [5.308777261180609e-09]],\n",
       " [[6.365444555834249e-12], [2.897129438153846e-12], [5.330835959772424e-12]],\n",
       " [[6.391893852150897e-15], [2.9091674088415625e-15], [5.352986315286279e-15]]]"
      ]
     },
     "execution_count": 23,
     "metadata": {},
     "output_type": "execute_result"
    }
   ],
   "source": [
    "final_results # Six different final states "
   ]
  },
  {
   "cell_type": "markdown",
   "metadata": {},
   "source": [
    "## The Mandelbrot Fractal Set"
   ]
  },
  {
   "cell_type": "markdown",
   "metadata": {},
   "source": [
    "The Mandelbrot Fractal Set is a figure made by the repetition of the same pattern at different scales. Each element is a replica of the same function plotted at a smaller scale. Since the evaluation of the function and conversion to the coordinates can be done in parallel, we can use Parsl to execute them in parallel threads.\n",
    "\n",
    "Code adapted from: https://www.geeksforgeeks.org/mandelbrot-fractal-set-visualization-in-python/"
   ]
  },
  {
   "cell_type": "markdown",
   "metadata": {},
   "source": [
    "Let's run the Mandelbrot Fractal Set for a single pixel first:"
   ]
  },
  {
   "cell_type": "code",
   "execution_count": 2,
   "metadata": {},
   "outputs": [],
   "source": [
    "@python_app\n",
    "def mandelbrot(x, y):\n",
    "    \n",
    "    from numpy import complex, array \n",
    "    import colorsys\n",
    "    \n",
    "    # Internal function for converstion to the RGB type \n",
    "    # tuple that can be added to the image\n",
    "\n",
    "    def rgb_conversion(i): \n",
    "        color = 255 * array(colorsys.hsv_to_rgb(i / 255.0, 1.0, 0.5)) \n",
    "        return tuple(color.astype(int)) \n",
    "    \n",
    "    c0 = complex(x, y)\n",
    "    c = 0\n",
    "    for i in range(1, 1000): \n",
    "        if abs(c) > 2:\n",
    "            return rgb_conversion(i) \n",
    "        c = c * c + c0 \n",
    "    return (0, 0, 0) \n",
    "    \n",
    "def mandelbrot_non_parallel(x,y):\n",
    "    \n",
    "    from numpy import complex, array \n",
    "    import colorsys\n",
    "    \n",
    "    # Internal function for converstion to the RGB type \n",
    "    # tuple that can be added to the image\n",
    "    \n",
    "    def rgb_conversion(i): \n",
    "        color = 255 * array(colorsys.hsv_to_rgb(i / 255.0, 1.0, 0.5)) \n",
    "        return tuple(color.astype(int)) \n",
    "    \n",
    "    c0 = complex(x, y)\n",
    "    c = 0\n",
    "    for i in range(1, 1000): \n",
    "        if abs(c) > 2:\n",
    "            return rgb_conversion(i) \n",
    "        c = c * c + c0 \n",
    "    return (0, 0, 0)"
   ]
  },
  {
   "cell_type": "code",
   "execution_count": null,
   "metadata": {},
   "outputs": [
    {
     "data": {
      "text/plain": [
       "(127, 6, 0)"
      ]
     },
     "execution_count": 4,
     "metadata": {},
     "output_type": "execute_result"
    }
   ],
   "source": [
    "# Evaluation for a single pixel.\n",
    "mandelbrot(40,10).result()"
   ]
  },
  {
   "cell_type": "markdown",
   "metadata": {},
   "source": [
    "Let us now execute the code using the Parsl function for an entire image"
   ]
  },
  {
   "cell_type": "markdown",
   "metadata": {
    "tags": []
   },
   "source": [
    "## Parallel Execution"
   ]
  },
  {
   "cell_type": "code",
   "execution_count": 8,
   "metadata": {
    "tags": []
   },
   "outputs": [],
   "source": [
    "from PIL import Image \n",
    "from numpy import complex, array \n",
    "import colorsys \n",
    "import time\n",
    "import matplotlib.pyplot as plt"
   ]
  },
  {
   "cell_type": "code",
   "execution_count": 11,
   "metadata": {},
   "outputs": [],
   "source": [
    "start = time.time()\n",
    "# Setting up the image\n",
    "WIDTH = 256\n",
    "img = Image.new('RGB', (WIDTH, int(WIDTH / 2)))\n",
    "pixels_raw = [[0 for _ in range(img.size[1])] for _ in range(img.size[0])]\n",
    "\n",
    "for x in range(img.size[0]):\n",
    "    for y in range(img.size[1]):\n",
    "        \n",
    "        # Looping through the image width and height to update the \n",
    "        # raw pixels list with the output of the function\n",
    "        \n",
    "        a = (x - (0.75 * WIDTH)) / (WIDTH / 4)\n",
    "        b = (y - (WIDTH / 4)) / (WIDTH / 4)\n",
    "        pixels_raw[x][y] = mandelbrot(a, b)\n",
    "\n",
    "pixels_raw = [[i.result() for i in x] for x in pixels_raw]\n",
    "\n",
    "# Projecting the raw pixels onto the image\n",
    "pixels = img.load()\n",
    "\n",
    "for x in range(img.size[0]):\n",
    "    for y in range(img.size[1]):\n",
    "        pixels[x,y] = pixels_raw[x][y]\n",
    "\n",
    "end = time.time()"
   ]
  },
  {
   "cell_type": "markdown",
   "metadata": {
    "tags": []
   },
   "source": [
    "## Non-Parallel Execution"
   ]
  },
  {
   "cell_type": "code",
   "execution_count": 6,
   "metadata": {
    "tags": []
   },
   "outputs": [],
   "source": [
    "import time\n",
    "start2 = time.time()\n",
    "# Setting up the image\n",
    "WIDTH = 256\n",
    "img = Image.new('RGB', (WIDTH, int(WIDTH / 2)))\n",
    "pixels_raw = [[0 for _ in range(img.size[1])] for _ in range(img.size[0])]\n",
    "\n",
    "for x in range(img.size[0]):\n",
    "    for y in range(img.size[1]):\n",
    "        \n",
    "        # Looping through the image width and height to update the \n",
    "        # raw pixels list with the output of the function\n",
    "        \n",
    "        a = (x - (0.75 * WIDTH)) / (WIDTH / 4)\n",
    "        b = (y - (WIDTH / 4)) / (WIDTH / 4)\n",
    "        pixels_raw[x][y] = mandelbrot_non_parallel(a, b)\n",
    "\n",
    "# Projecting the raw pixels onto the image\n",
    "pixels = img.load()\n",
    "\n",
    "for x in range(img.size[0]):\n",
    "    for y in range(img.size[1]):\n",
    "        pixels[x,y] = pixels_raw[x][y]\n",
    "\n",
    "end2 = time.time()"
   ]
  },
  {
   "cell_type": "code",
   "execution_count": 12,
   "metadata": {
    "tags": []
   },
   "outputs": [
    {
     "name": "stdout",
     "output_type": "stream",
     "text": [
      "Time taken with Parsl: 184.96906185150146\n",
      "Time taken with Parsl: 2.607807159423828\n"
     ]
    }
   ],
   "source": [
    "print('Time taken with Parsl: {}'.format(end-start))\n",
    "print('Time taken with Parsl: {}'.format(end2-start2))"
   ]
  },
  {
   "cell_type": "code",
   "execution_count": 9,
   "metadata": {},
   "outputs": [
    {
     "data": {
      "image/png": "[encoded data removed]",
      "text/plain": [
       "<Figure size 432x288 with 1 Axes>"
      ]
     },
     "metadata": {
      "needs_background": "light"
     },
     "output_type": "display_data"
    }
   ],
   "source": [
    "# Plotting the image of the projects of all the function evaluations\n",
    "plt.figure()\n",
    "plt.imshow(img)\n",
    "plt.show()"
   ]
  },
  {
   "cell_type": "markdown",
   "metadata": {},
   "source": [
    "# Basic Genetic Algorithm"
   ]
  },
  {
   "cell_type": "markdown",
   "metadata": {},
   "source": [
    "Code adopted from https://towardsdatascience.com/genetic-algorithm-implementation-in-python-5ab67bb124a6"
   ]
  },
  {
   "cell_type": "code",
   "execution_count": null,
   "metadata": {},
   "outputs": [],
   "source": [
    "import numpy\n",
    "\n",
    "def cal_pop_fitness(equation_inputs, pop):\n",
    "    fitness = numpy.sum(pop*equation_inputs, axis=1)\n",
    "    return fitness\n",
    "\n",
    "def select_mating_pool(pop, fitness, num_parents):\n",
    "    parents = numpy.empty((num_parents, pop.shape[1]))\n",
    "    for parent_num in range(num_parents):\n",
    "        max_fitness_idx = numpy.where(fitness == numpy.max(fitness))\n",
    "        max_fitness_idx = max_fitness_idx[0][0]\n",
    "        parents[parent_num, :] = pop[max_fitness_idx, :]\n",
    "        fitness[max_fitness_idx] = -99999999999\n",
    "    return parents\n",
    "\n",
    "def crossover(parents, offspring_size):\n",
    "    offspring = numpy.empty(offspring_size)\n",
    "    crossover_point = numpy.uint8(offspring_size[1]/2)\n",
    "    \n",
    "    @python_app\n",
    "    def update_offspring(k, parents, crossover_point):\n",
    "        parent1_idx = k%parents.shape[0]\n",
    "        parent2_idx = (k+1)%parents.shape[0]\n",
    "        a = parents[parent1_idx, 0:crossover_point]\n",
    "        b = parents[parent2_idx, crossover_point:]\n",
    "        return a,b\n",
    "    \n",
    "    output_list = []\n",
    "    for k in range(offspring_size[0]):\n",
    "        output_list.append(update_offspring(k, parents, crossover_point))\n",
    "    \n",
    "    output_list = [i.result() for i in output_list]\n",
    "    \n",
    "    for k in range(offspring_size[0]):\n",
    "        offspring[k, 0:crossover_point] = output_list[k][0]\n",
    "        offspring[k, crossover_point:] = output_list[k][1]\n",
    "\n",
    "    return offspring\n",
    "\n",
    "def mutation(offspring_crossover):\n",
    "    \n",
    "    @python_app\n",
    "    def update_offpsring_crossover(value):\n",
    "        import numpy\n",
    "        random_value = numpy.random.uniform(-1.0, 1.0, 1)\n",
    "        return value + random_value\n",
    "    \n",
    "    output_list = []\n",
    "    \n",
    "    for idx in range(offspring_crossover.shape[0]):\n",
    "        offspring_crossover[idx, 4] = update_offpsring_crossover(offspring_crossover[idx, 4])\n",
    "        \n",
    "    offspring_crossover[idx, 4] = [i.result() for i in offspring_crossover[idx, 4]]\n",
    "    return offspring_crossover"
   ]
  },
  {
   "cell_type": "code",
   "execution_count": null,
   "metadata": {},
   "outputs": [],
   "source": [
    "import numpy\n",
    "\n",
    "equation_inputs = [4,-2,3.5,5,-11,-4.7]\n",
    "num_weights = 6\n",
    "sol_per_pop = 8\n",
    "num_parents_mating = 4\n",
    "\n",
    "pop_size = (sol_per_pop,num_weights)\n",
    "new_population = numpy.random.uniform(low=-4.0, high=4.0, size=pop_size)\n",
    "\n",
    "num_generations = 5\n",
    "\n",
    "for generation in range(num_generations):\n",
    "    print(\"Generation : \", generation)\n",
    "\n",
    "    fitness = cal_pop_fitness(equation_inputs, new_population)\n",
    "    parents = select_mating_pool(new_population, fitness, num_parents_mating)\n",
    "\n",
    "    offspring_crossover = crossover(parents, offspring_size=(pop_size[0]-parents.shape[0], num_weights))\n",
    "    offspring_mutation = mutation(offspring_crossover)\n",
    "\n",
    "    new_population[0:parents.shape[0], :] = parents\n",
    "    new_population[parents.shape[0]:, :] = offspring_mutation\n",
    "\n",
    "    print(\"Best result : \", numpy.max(numpy.sum(new_population*equation_inputs, axis=1)))\n",
    "\n",
    "\n",
    "fitness = cal_pop_fitness(equation_inputs, new_population)\n",
    "best_match_idx = numpy.where(fitness == numpy.max(fitness))\n",
    "\n",
    "print(\"Best solution : \", new_population[best_match_idx, :])\n",
    "print(\"Best solution fitness : \", fitness[best_match_idx])"
   ]
  }
 ],
 "metadata": {
  "kernelspec": {
   "display_name": "Python 3",
   "language": "python",
   "name": "python3"
  },
  "language_info": {
   "codemirror_mode": {
    "name": "ipython",
    "version": 3
   },
   "file_extension": ".py",
   "mimetype": "text/x-python",
   "name": "python",
   "nbconvert_exporter": "python",
   "pygments_lexer": "ipython3",
   "version": "3.7.4"
  }
 },
 "nbformat": 4,
 "nbformat_minor": 2
}
