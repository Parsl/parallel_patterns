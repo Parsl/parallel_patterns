{
 "cells": [
  {
   "cell_type": "markdown",
   "metadata": {},
   "source": [
    "### Importing Libraries and Configuration"
   ]
  },
  {
   "cell_type": "markdown",
   "metadata": {},
   "source": [
    "We'll be using the htex configuration for Parsl. Read more [here.]( https://github.com/Parsl/parsl/blob/master/parsl/configs/htex_local.py)"
   ]
  },
  {
   "cell_type": "code",
   "execution_count": 2,
   "metadata": {},
   "outputs": [
    {
     "data": {
      "text/plain": [
       "<parsl.dataflow.dflow.DataFlowKernel at 0x105958150>"
      ]
     },
     "execution_count": 2,
     "metadata": {},
     "output_type": "execute_result"
    }
   ],
   "source": [
    "import parsl\n",
    "import os\n",
    "from parsl.app.app import python_app, bash_app\n",
    "from parsl.configs.local_threads import config\n",
    "\n",
    "parsl.load(config)"
   ]
  },
  {
   "cell_type": "markdown",
   "metadata": {},
   "source": [
    "### Simulating the Runge-Kutta 4 Method for Estimation of derivatives"
   ]
  },
  {
   "cell_type": "markdown",
   "metadata": {},
   "source": [
    "In a mathematical scenario, if you have the derivative of a function. You can use that derivative, noted here as f(y,t) to estimate the value of y(t)."
   ]
  },
  {
   "cell_type": "code",
   "execution_count": null,
   "metadata": {},
   "outputs": [],
   "source": [
    "## RK4 method\n",
    "\n",
    "@python_app\n",
    "def initial_y():\n",
    "    return 1\n",
    "\n",
    "@python_app\n",
    "def f(y,t):\n",
    "    import math\n",
    "    h = 0.01\n",
    "    return h*(math.exp(-y) + t**5)\n",
    "\n",
    "@python_app\n",
    "def add_and_half(y,k):\n",
    "    return y+k/2\n",
    "\n",
    "@python_app\n",
    "def add(y,k):\n",
    "    return y+k\n",
    "\n",
    "@python_app\n",
    "def total_weighted_average(k1,k2,k3,k4):\n",
    "    return (k1 + 2*k2 + 2*k3 + k4)/6\n",
    "\n",
    "t_i = 0\n",
    "y_i = initial_y()\n",
    "h = 0.01\n",
    "\n",
    "for i in range(100):\n",
    "    k1 = f(y_i, t_i)\n",
    "    \n",
    "    k2 = f(add_and_half(y_i,k1), t_i + h/2)\n",
    "    \n",
    "    k3 = f(add_and_half(y_i,k2), t_i + h/2)\n",
    "    \n",
    "    k4 = f(add(y_i,k3), t_i + h)\n",
    "    \n",
    "    y_i = add(y_i,total_weighted_average(k1,k2,k3,k4))\n",
    "    t_i += h\n",
    "\n",
    "print(t_i,y_i.result())"
   ]
  }
 ],
 "metadata": {
  "kernelspec": {
   "display_name": "Python 3",
   "language": "python",
   "name": "python3"
  },
  "language_info": {
   "codemirror_mode": {
    "name": "ipython",
    "version": 3
   },
   "file_extension": ".py",
   "mimetype": "text/x-python",
   "name": "python",
   "nbconvert_exporter": "python",
   "pygments_lexer": "ipython3",
   "version": "3.7.4"
  }
 },
 "nbformat": 4,
 "nbformat_minor": 2
}
