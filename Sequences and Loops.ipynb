{
 "cells": [
  {
   "cell_type": "markdown",
   "metadata": {},
   "source": [
    "# Sequences and Loops in Parsl"
   ]
  },
  {
   "cell_type": "markdown",
   "metadata": {},
   "source": [
    "### Importing Libraries and Configuration"
   ]
  },
  {
   "cell_type": "markdown",
   "metadata": {},
   "source": [
    "We'll be using the htex configuration for Parsl. Read more [here.]( https://github.com/Parsl/parsl/blob/master/parsl/configs/htex_local.py)"
   ]
  },
  {
   "cell_type": "code",
   "execution_count": 1,
   "metadata": {},
   "outputs": [
    {
     "data": {
      "text/plain": [
       "<parsl.dataflow.dflow.DataFlowKernel at 0x1108cd610>"
      ]
     },
     "execution_count": 1,
     "metadata": {},
     "output_type": "execute_result"
    }
   ],
   "source": [
    "# External Libraries\n",
    "import numpy as np\n",
    "\n",
    "# Importing Parsl and the htex configuration\n",
    "import parsl\n",
    "from parsl.app.app import python_app, bash_app\n",
    "from parsl.providers import LocalProvider\n",
    "from parsl.channels import LocalChannel\n",
    "\n",
    "from parsl.config import Config\n",
    "from parsl.executors import HighThroughputExecutor\n",
    "\n",
    "config = Config(\n",
    "    executors=[\n",
    "        HighThroughputExecutor(\n",
    "            label=\"htex_local\",\n",
    "            cores_per_worker=1,\n",
    "            provider=LocalProvider(\n",
    "                channel=LocalChannel(),\n",
    "                init_blocks=1,\n",
    "                max_blocks=1,\n",
    "            ),\n",
    "        )\n",
    "    ],\n",
    ")\n",
    "\n",
    "parsl.load(config)"
   ]
  },
  {
   "cell_type": "markdown",
   "metadata": {},
   "source": [
    "### For loops in Sequence"
   ]
  },
  {
   "cell_type": "markdown",
   "metadata": {},
   "source": [
    "Since sequences are executed chronologically, their steps can't be executed in parallel. For example, if f(x) is followed by g(x) which is followed by h(x), then we can't execute them in parallel since their inputs depend on the previous functions results. But we can execute multiple sequences at the same time."
   ]
  },
  {
   "cell_type": "markdown",
   "metadata": {},
   "source": [
    "For example, Let x be an input that has to be processed by f(x), g(x) and h(x). Then we can execute parallel sequences for 100 values of x as shown below. Note: f(x), g(x) and h(x) are all randomly selected functions can be changed as per the need of the experiment"
   ]
  },
  {
   "cell_type": "markdown",
   "metadata": {},
   "source": [
    "<img src=\"parallel_sequences.png\"\n",
    "     style=\"float: left; size: 15px;\" />"
   ]
  },
  {
   "cell_type": "code",
   "execution_count": 2,
   "metadata": {},
   "outputs": [],
   "source": [
    "## Building the Python Apps for f(x), g(x) and h(x)\n",
    "\n",
    "@python_app\n",
    "def f(x):\n",
    "    return (x**2 - 4)\n",
    "\n",
    "@python_app\n",
    "def g(x):\n",
    "    import numpy as np\n",
    "    return (np.sin(x) + np.cos(x))\n",
    "\n",
    "@python_app\n",
    "def h(x):\n",
    "    import numpy as np\n",
    "    return (np.exp(x))"
   ]
  },
  {
   "cell_type": "code",
   "execution_count": 3,
   "metadata": {},
   "outputs": [],
   "source": [
    "x = np.linspace(1,100,100) "
   ]
  },
  {
   "cell_type": "code",
   "execution_count": null,
   "metadata": {},
   "outputs": [],
   "source": [
    "out_f = []\n",
    "out_g = []\n",
    "out_h = []\n",
    "\n",
    "for element in x:\n",
    "    out_f.append(f(element))\n",
    "\n",
    "for element2 in out_f:\n",
    "    out_g.append(g(element2))\n",
    "\n",
    "for element3 in out_g:\n",
    "    out_h.append(h(element3))\n",
    "    \n",
    "out_h = [i.result() for i in out_h]"
   ]
  },
  {
   "cell_type": "markdown",
   "metadata": {},
   "source": [
    "An important thing to note in the above example is that we didn't have to evaluate the results of f(x) or g(x) before h(x) using the .result() function. We simply parsed the AppFuture objects into the next python app without evaluation. Thus, it reduces the number of separate evaluations conducted and pushes everything to be conducted in parallel at the end."
   ]
  },
  {
   "cell_type": "code",
   "execution_count": null,
   "metadata": {},
   "outputs": [],
   "source": [
    "print(len(out_f))\n",
    "print(len(out_g))\n",
    "print(len(out_h))"
   ]
  },
  {
   "cell_type": "markdown",
   "metadata": {},
   "source": [
    "### Nested Loops"
   ]
  },
  {
   "cell_type": "markdown",
   "metadata": {},
   "source": [
    "A nested loop is a loop within a loop. Here, one loop gives us a result which becomes the input of another loop. For example, The function f(x) generates a list of the 20 natural numbers after the given input 'x' and g(x) generates a list of a given number's square root"
   ]
  },
  {
   "cell_type": "markdown",
   "metadata": {},
   "source": [
    "<img src=\"nested_looping.png\"\n",
    "     style=\"float: left; size: 15px;\" />"
   ]
  },
  {
   "cell_type": "code",
   "execution_count": null,
   "metadata": {},
   "outputs": [],
   "source": [
    "x = np.linspace(1,50,50)\n",
    "\n",
    "@python_app\n",
    "def natural_numbers(x):\n",
    "    import numpy as np\n",
    "    return np.linspace(x+1, (19+x),20)\n",
    "\n",
    "@python_app\n",
    "def square_roots(x):\n",
    "    return [+x**0.5,-x**0.5]"
   ]
  },
  {
   "cell_type": "code",
   "execution_count": null,
   "metadata": {},
   "outputs": [],
   "source": [
    "final_array = []\n",
    "\n",
    "for element in x:\n",
    "    output_list = natural_numbers(element)\n",
    "\n",
    "    for element2 in output_list.result():\n",
    "        final_array.append(square_roots(element2))\n",
    "        \n",
    "final_array = [i.result() for i in final_array]"
   ]
  },
  {
   "cell_type": "code",
   "execution_count": null,
   "metadata": {},
   "outputs": [],
   "source": [
    "print(len(final_array))"
   ]
  },
  {
   "cell_type": "markdown",
   "metadata": {},
   "source": [
    "### Synchronization"
   ]
  },
  {
   "cell_type": "markdown",
   "metadata": {},
   "source": [
    "Synchronization is the merge of existing parallel threads to compute one final result. For example, 100 different natural numbers are first squared and then their average is evaluated"
   ]
  },
  {
   "cell_type": "markdown",
   "metadata": {},
   "source": [
    "<img src=\"synchronization.png\"\n",
    "     style=\"float: left; size: 10px;\" />"
   ]
  },
  {
   "cell_type": "code",
   "execution_count": null,
   "metadata": {},
   "outputs": [],
   "source": [
    "@python_app\n",
    "def square(x):\n",
    "    return x**2\n",
    "\n",
    "@python_app\n",
    "def average(inputs=[]):\n",
    "    return sum(inputs)/len(inputs)\n",
    "    \n",
    "output_list = []\n",
    "for i in range(1,5):\n",
    "    output_list.append(square(i))\n",
    "\n",
    "mean = average(inputs=output_list).result()"
   ]
  },
  {
   "cell_type": "code",
   "execution_count": null,
   "metadata": {},
   "outputs": [],
   "source": [
    "print(mean)"
   ]
  },
  {
   "cell_type": "markdown",
   "metadata": {},
   "source": [
    "### Exclusive Routing"
   ]
  },
  {
   "cell_type": "markdown",
   "metadata": {},
   "source": [
    "Exclusive Routing is the idea of parsing a result to a parallel branch if it meets a given condition"
   ]
  },
  {
   "cell_type": "markdown",
   "metadata": {},
   "source": [
    "<img src=\"exclusive_routing.png\"\n",
    "     style=\"float: left; size: 15px;\" />"
   ]
  },
  {
   "cell_type": "code",
   "execution_count": null,
   "metadata": {},
   "outputs": [],
   "source": [
    "inputs = np.linspace(1,100,100)\n",
    "\n",
    "def check(x):\n",
    "    if x%3 == 0 and x%5 == 0:\n",
    "        return True\n",
    "    else:\n",
    "        return False\n",
    "\n",
    "@python_app\n",
    "def square_root(x):\n",
    "    return x**0.5\n",
    "\n",
    "@python_app\n",
    "def squared(x):\n",
    "    return x**2\n",
    "\n",
    "final_list = []\n",
    "\n",
    "for x in inputs:\n",
    "    if check(x):\n",
    "        final_list.append(square_root(x))\n",
    "    else:\n",
    "        final_list.append(squared(x))"
   ]
  },
  {
   "cell_type": "code",
   "execution_count": null,
   "metadata": {},
   "outputs": [],
   "source": [
    "final_list = [i.result() for i in final_list]"
   ]
  },
  {
   "cell_type": "code",
   "execution_count": null,
   "metadata": {},
   "outputs": [],
   "source": [
    "print(len(final_list))"
   ]
  }
 ],
 "metadata": {
  "kernelspec": {
   "display_name": "Python 3",
   "language": "python",
   "name": "python3"
  },
  "language_info": {
   "codemirror_mode": {
    "name": "ipython",
    "version": 3
   },
   "file_extension": ".py",
   "mimetype": "text/x-python",
   "name": "python",
   "nbconvert_exporter": "python",
   "pygments_lexer": "ipython3",
   "version": "3.7.4"
  }
 },
 "nbformat": 4,
 "nbformat_minor": 2
}
