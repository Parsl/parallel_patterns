{
 "cells": [
  {
   "cell_type": "markdown",
   "metadata": {},
   "source": [
    "## Montage Mosaic"
   ]
  },
  {
   "cell_type": "markdown",
   "metadata": {},
   "source": [
    "<b> NOTE: </b> For this Montage Mosaic to work, the script needs to download and extract image files that are 400 MB in size. Please make sure that you have enough memory on your disk/VM/server before you run this script."
   ]
  },
  {
   "cell_type": "markdown",
   "metadata": {},
   "source": [
    "Note that Parsl is not effective if multiple CPU cores aren't available because Parsl's ability to execute tasks in parallel is dependent on the availability of multiple cores."
   ]
  },
  {
   "cell_type": "code",
   "execution_count": null,
   "metadata": {},
   "outputs": [],
   "source": [
    "import multiprocessing\n",
    "print('Cores available: {}'.format(multiprocessing.cpu_count()))"
   ]
  },
  {
   "cell_type": "markdown",
   "metadata": {},
   "source": [
    "<b> COMMAND LINE INFORMATION: </b> Install Montage from the website <a href='http://montage.ipac.caltech.edu/docs/download2.html'> here </a> or using Homebrew below. Also make sure to have the 'wget' and the 'tar' utilities installed on your laptop."
   ]
  },
  {
   "cell_type": "code",
   "execution_count": null,
   "metadata": {},
   "outputs": [],
   "source": [
    "'''\n",
    "Run this script if you have homebrew installed on your system.\n",
    "'''\n",
    "!brew install montage wget"
   ]
  },
  {
   "cell_type": "markdown",
   "metadata": {},
   "source": [
    "<b> PYTHON PACKAGE INFORMATION: </b> Run the following command to install relevant python packages."
   ]
  },
  {
   "cell_type": "code",
   "execution_count": null,
   "metadata": {},
   "outputs": [],
   "source": [
    "'''\n",
    "Run this script to install relevant python packages\n",
    "'''\n",
    "!pip install montage_wrapper pandas parsl"
   ]
  },
  {
   "cell_type": "markdown",
   "metadata": {},
   "source": [
    "This Python script has been inspired from the [Montage Wrapper Documentation](https://montage-wrapper.readthedocs.io/en/v0.9.5) and the [tutorial](http://montage.ipac.caltech.edu/docs/first_mosaic_tutorial.html) for the Montage Mosaic, which is a processed collection of images."
   ]
  },
  {
   "cell_type": "code",
   "execution_count": null,
   "metadata": {},
   "outputs": [],
   "source": [
    "import pandas as pd\n",
    "import parsl\n",
    "import os\n",
    "import montage_wrapper as montage\n",
    "from parsl.data_provider.files import File\n",
    "cwd = os.getcwd()\n",
    "\n",
    "from parsl.app.app import python_app, bash_app\n",
    "from parsl.providers import LocalProvider\n",
    "from parsl.channels import LocalChannel\n",
    "\n",
    "from parsl.config import Config\n",
    "from parsl.executors import HighThroughputExecutor\n",
    "\n",
    "config = Config(\n",
    "    executors=[\n",
    "        HighThroughputExecutor(\n",
    "            label=\"htex_local\",\n",
    "            cores_per_worker=1,\n",
    "            provider=LocalProvider(\n",
    "                channel=LocalChannel(),\n",
    "                init_blocks=1,\n",
    "                max_blocks=1,\n",
    "            ),\n",
    "        )\n",
    "    ],\n",
    ")\n",
    "\n",
    "parsl.load(config)"
   ]
  },
  {
   "cell_type": "markdown",
   "metadata": {},
   "source": [
    "### First Part"
   ]
  },
  {
   "cell_type": "code",
   "execution_count": null,
   "metadata": {},
   "outputs": [],
   "source": [
    "from IPython.utils import io\n",
    "\n",
    "with io.capture_output() as captured: \n",
    "    '''\n",
    "    Packaging all the non-parallel commands inside a captured output to prevent printing any outputs here.\n",
    "    NOTE: This script may take 0.5-1 minute depending on internet speed to fully execute.\n",
    "    '''\n",
    "    !wget -c http://montage.ipac.caltech.edu/docs/Kimages.tar\n",
    "    !tar xvf Kimages.tar\n",
    "    montage.mImgtbl(os.path.join(cwd,'Kimages/'),  File(os.path.join(cwd,'Kimages.tbl')))\n",
    "    montage.mMakeHdr(File(os.path.join(cwd,'Kimages.tbl')), File(os.path.join(cwd,'Ktemplate.hdr')))\n",
    "    os.mkdir(os.path.join(cwd,'Kprojdir/'))"
   ]
  },
  {
   "cell_type": "markdown",
   "metadata": {},
   "source": [
    "Implementation of mProjExec in Parsl"
   ]
  },
  {
   "cell_type": "code",
   "execution_count": null,
   "metadata": {},
   "outputs": [],
   "source": [
    "@python_app\n",
    "def mProject_parsl(inputs=  [], outputs = []):\n",
    "    '''\n",
    "    This is the Parsl Function that executes the mProject on each input image \n",
    "    and outputs the FITS file to the Kprojdir directory.\n",
    "    '''\n",
    "    import montage_wrapper as montage\n",
    "    return montage.mProject(inputs[0], outputs[0], inputs[1])"
   ]
  },
  {
   "cell_type": "code",
   "execution_count": null,
   "metadata": {},
   "outputs": [],
   "source": [
    "list_of_images = os.listdir(os.path.join(cwd,'Kimages/'))\n",
    "\n",
    "output = []\n",
    "\n",
    "for image in list_of_images:\n",
    "    '''\n",
    "    For each image, we capture the input image and output image.\n",
    "    We also feed the template header for each image.\n",
    "    The inputs and outputs are then fed into the Parsl function\n",
    "    '''\n",
    "    input_image = File(os.path.join(cwd, 'Kimages/' + image))\n",
    "    output_image = File(os.path.join(cwd, 'Kprojdir/hdu0_' + image))\n",
    "    template = File(os.path.join(cwd,'Ktemplate.hdr'))\n",
    "\n",
    "    output.append(mProject_parsl(inputs=[input_image, template],\n",
    "                                 outputs = [output_image]))\n",
    "    \n",
    "output = [i.result() for i in output]\n",
    "    \n",
    "'''\n",
    "If the function wasn't run in parallel, it would have looked like this:\n",
    "\n",
    "montage.mProjExec(File(os.path.join(cwd,'Kimages.tbl')),\n",
    "                  File(os.path.join(cwd,'Ktemplate.hdr')),\n",
    "                  os.path.join(cwd,'Kprojdir/'),\n",
    "                  File(os.path.join(cwd,'stats.tbl')))\n",
    "'''"
   ]
  },
  {
   "cell_type": "markdown",
   "metadata": {},
   "source": [
    "Final non-parallel section of the First part of Montage Mosaic"
   ]
  },
  {
   "cell_type": "code",
   "execution_count": null,
   "metadata": {},
   "outputs": [],
   "source": [
    "with io.capture_output() as captured2:\n",
    "    '''\n",
    "    Packaging all the non-parallel commands inside a captured output to prevent printing any outputs here.\n",
    "    '''\n",
    "    montage.mImgtbl(os.path.join(cwd,'Kprojdir/'), File(os.path.join(cwd,'images.tbl')))\n",
    "    montage.mAdd( File(os.path.join(cwd,'images.tbl')), \n",
    "                  File(os.path.join(cwd,'Ktemplate.hdr')), \n",
    "                  File(os.path.join(cwd,'m17_uncorrected.fits')))\n",
    "    !mViewer -ct 1 -gray m17_uncorrected.fits -1s max gaussian-log -out m17_uncorrected.png\n",
    "\n",
    "'''\n",
    "The markdown image below pulls the uncorrected image file:  m17_uncorrected.png\n",
    "'''"
   ]
  },
  {
   "cell_type": "markdown",
   "metadata": {},
   "source": [
    "![](./images/m17_uncorrected.png)"
   ]
  },
  {
   "cell_type": "markdown",
   "metadata": {},
   "source": [
    "### Second Part"
   ]
  },
  {
   "cell_type": "markdown",
   "metadata": {},
   "source": [
    "Initial non-parallel section"
   ]
  },
  {
   "cell_type": "code",
   "execution_count": null,
   "metadata": {},
   "outputs": [],
   "source": [
    "with io.capture_output() as captured:\n",
    "    '''\n",
    "    Packaging all the non-parallel commands inside a captured output to prevent printing any outputs here.\n",
    "    '''\n",
    "    montage.mOverlaps(File(os.path.join(cwd,'images.tbl')), File(os.path.join(cwd,'diffs.tbl')))\n",
    "    os.mkdir(os.path.join(cwd,'diffdir/'))"
   ]
  },
  {
   "cell_type": "markdown",
   "metadata": {},
   "source": [
    "Implementation of mDiffExec in Parsl"
   ]
  },
  {
   "cell_type": "code",
   "execution_count": null,
   "metadata": {},
   "outputs": [],
   "source": [
    "@python_app\n",
    "def mDiff_parsl(inputs=[], outputs = []):\n",
    "    '''\n",
    "    The Parsl function for evaluating mDiff function over all input images.\n",
    "    This replaces the mDiffExec function.\n",
    "    '''\n",
    "\n",
    "    import montage_wrapper as montage\n",
    "    return montage.mDiff(inputs[0], inputs[1], outputs[0], inputs[2])"
   ]
  },
  {
   "cell_type": "code",
   "execution_count": null,
   "metadata": {},
   "outputs": [],
   "source": [
    "'''\n",
    "This cell involves essential data processing that is required to \n",
    "feed individual images into the Parsl function for mDiff.\n",
    "\n",
    "We extract the the two images for each file (normal image and _area image).\n",
    "We also extract the output image directory.\n",
    "'''\n",
    "\n",
    "df = pd.read_csv('diffs.tbl', comment='#', delim_whitespace=True).drop(0)\n",
    "images1 = list(df['|.1'])\n",
    "images2 = list(df['cntr2'])\n",
    "outputs = list(df['|.2'])"
   ]
  },
  {
   "cell_type": "code",
   "execution_count": null,
   "metadata": {},
   "outputs": [],
   "source": [
    "outputs_2 = []\n",
    "\n",
    "for i in range(len(images1)):\n",
    "    '''\n",
    "    In the for loop, we extract individual input images along with output_file directory.\n",
    "    The inputs along with the template header are fed into the mDiff_parsl function.\n",
    "    '''\n",
    "    \n",
    "    image1 = File(os.path.join(cwd,'Kprojdir/' + images1[i]))\n",
    "    image2 = File(os.path.join(cwd,'Kprojdir/' + images2[i]))\n",
    "    output_file = File(os.path.join(cwd,'diffdir/' + outputs[i]))\n",
    "    template = File(os.path.join(cwd,'Ktemplate.hdr'))\n",
    "    \n",
    "    outputs_2.append(mDiff_parsl(inputs=[image1, image2, template],\n",
    "                                 outputs = [output_file]))\n",
    "    \n",
    "outputs_2 = [i.result() for i in outputs_2]\n",
    "\n",
    "'''\n",
    "If the function wasn't run in parallel, it would have looked like this:\n",
    "\n",
    "montage.mDiffExec(File(os.path.join(cwd,'diffs.tbl')), \n",
    "                  File(os.path.join(cwd,'Ktemplate.hdr')), \n",
    "                  os.path.join(cwd,'diffdir/'),\n",
    "                  proj_dir=os.path.join(cwd,'Kprojdir/'))\n",
    "'''"
   ]
  },
  {
   "cell_type": "markdown",
   "metadata": {},
   "source": [
    "Non-parallel components after mDiffExec"
   ]
  },
  {
   "cell_type": "code",
   "execution_count": null,
   "metadata": {},
   "outputs": [],
   "source": [
    "with io.capture_output() as captured:\n",
    "    '''\n",
    "    Packaging all the non-parallel commands inside a captured output to prevent printing any outputs here.\n",
    "    '''\n",
    "    montage.mFitExec(File(os.path.join(cwd,'diffs.tbl')), File(os.path.join(cwd,'fits.tbl')), \n",
    "                     os.path.join(cwd,'diffdir/'))\n",
    "    montage.mBgModel(File(os.path.join(cwd,'images.tbl')), File(os.path.join(cwd,'fits.tbl')), \n",
    "                 File(os.path.join(cwd,'corrections.tbl')))\n",
    "    \n",
    "    os.mkdir(os.path.join(cwd,'corrdir'))"
   ]
  },
  {
   "cell_type": "markdown",
   "metadata": {},
   "source": [
    "Implementation of mBgExec in Parsl"
   ]
  },
  {
   "cell_type": "code",
   "execution_count": null,
   "metadata": {},
   "outputs": [],
   "source": [
    "'''\n",
    "This cell involves essential data processing that is required to \n",
    "feed individual images into the Parsl function for mBackground.\n",
    "\n",
    "We extract the correction values for each image along with image id that we'll use for matching each image.\n",
    "We also get the image table to get the directory of each image\n",
    "'''\n",
    "\n",
    "\n",
    "corrections = pd.read_csv('corrections.tbl', comment='|', delim_whitespace=True)\n",
    "corrections.loc[90] = list(corrections.columns)\n",
    "corrections.columns = ['id','a','b','c']\n",
    "\n",
    "for i in range(len(corrections)):\n",
    "    corrections['id'][i] = int(corrections['id'][i])\n",
    "    \n",
    "images_table = pd.read_csv('images.tbl', comment='|', delim_whitespace=True)"
   ]
  },
  {
   "cell_type": "code",
   "execution_count": null,
   "metadata": {},
   "outputs": [],
   "source": [
    "@python_app\n",
    "def mBackground_parsl(inputs=[], outputs = []):\n",
    "    '''\n",
    "    The Parsl function for evaluating mBackground function over all input images and correct them.\n",
    "    This replaces the mBgExec function.\n",
    "    '''\n",
    "    import montage_wrapper as montage\n",
    "    return montage.mBackground( inputs[0], \n",
    "                                outputs[0], \n",
    "                                inputs[1],\n",
    "                                inputs[2],\n",
    "                                inputs[3])"
   ]
  },
  {
   "cell_type": "code",
   "execution_count": null,
   "metadata": {},
   "outputs": [],
   "source": [
    "outputs_mb = []\n",
    "\n",
    "for i in range(len(images_table)):\n",
    "    '''\n",
    "    In the for loop, we extract individual input images along with output_image directory.\n",
    "    The inputs along with the correction values are fed into the mBackground_parsl function.\n",
    "    '''\n",
    "    \n",
    "    input_image = list(images_table['fitshdr'])[i]\n",
    "    file_name = (list(images_table['fitshdr'])[i]).replace(cwd + '/Kprojdir/', '')\n",
    "    output_image = os.path.join(cwd + '/corrdir',file_name)\n",
    "    correction_values = list(corrections.loc[ corrections['id'] == i ].values[0])\n",
    "    outputs_mb.append(mBackground_parsl(inputs = [File(input_image), correction_values[1], correction_values[2], correction_values[3]],\n",
    "                        outputs = [File(output_image)]))\n",
    "    \n",
    "outputs_mb = [i.result() for i in outputs_mb]\n",
    "\n",
    "'''\n",
    "If the function wasn't run in parallel, it would have looked like this:\n",
    "\n",
    "montage.mBgExec( File(os.path.join(cwd,'images.tbl')), \n",
    "                 File(os.path.join(cwd,'corrections.tbl')), \n",
    "                 os.path.join(cwd,'corrdir'), \n",
    "                 proj_dir=os.path.join(cwd,'Kprojdir'))\n",
    "'''"
   ]
  },
  {
   "cell_type": "markdown",
   "metadata": {},
   "source": [
    "Final non-parallel component of the Montage Mosaic"
   ]
  },
  {
   "cell_type": "code",
   "execution_count": null,
   "metadata": {},
   "outputs": [],
   "source": [
    "with io.capture_output() as captured:\n",
    "    '''\n",
    "    Packaging all the non-parallel commands inside a captured output to prevent printing any outputs here.\n",
    "    '''\n",
    "    montage.mAdd(File(os.path.join(cwd,'images.tbl')), \n",
    "             File(os.path.join(cwd,'Ktemplate.hdr')), \n",
    "             File(os.path.join(cwd,'m17.fits')))\n",
    "    !mViewer -ct 1 -gray m17.fits -1s max gaussian-log -out m17.png"
   ]
  },
  {
   "cell_type": "markdown",
   "metadata": {},
   "source": [
    "![](./images/m17.png)"
   ]
  }
 ],
 "metadata": {
  "kernelspec": {
   "display_name": "Python 3",
   "language": "python",
   "name": "python3"
  },
  "language_info": {
   "codemirror_mode": {
    "name": "ipython",
    "version": 3
   },
   "file_extension": ".py",
   "mimetype": "text/x-python",
   "name": "python",
   "nbconvert_exporter": "python",
   "pygments_lexer": "ipython3",
   "version": "3.7.4"
  }
 },
 "nbformat": 4,
 "nbformat_minor": 2
}
