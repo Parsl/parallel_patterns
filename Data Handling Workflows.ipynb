{
 "cells": [
  {
   "cell_type": "markdown",
   "metadata": {},
   "source": [
    "# Data Handling Workflows"
   ]
  },
  {
   "cell_type": "markdown",
   "metadata": {
    "tags": []
   },
   "source": [
    "Note that Parsl is not effective if multiple CPU cores aren't available because Parsl's ability to execute tasks in parallel is depenedent on the availability multiple cores."
   ]
  },
  {
   "cell_type": "code",
   "execution_count": 1,
   "metadata": {
    "tags": []
   },
   "outputs": [
    {
     "name": "stdout",
     "output_type": "stream",
     "text": [
      "Cores available: 4\n"
     ]
    }
   ],
   "source": [
    "import multiprocessing\n",
    "print('Cores available: {}'.format(multiprocessing.cpu_count()))"
   ]
  },
  {
   "cell_type": "markdown",
   "metadata": {},
   "source": [
    "### Importing Libraries and Configuration"
   ]
  },
  {
   "cell_type": "code",
   "execution_count": 2,
   "metadata": {},
   "outputs": [
    {
     "data": {
      "text/plain": [
       "<parsl.dataflow.dflow.DataFlowKernel at 0x118a343d0>"
      ]
     },
     "execution_count": 2,
     "metadata": {},
     "output_type": "execute_result"
    },
    {
     "name": "stderr",
     "output_type": "stream",
     "text": [
      "Process HTEX-Interchange:\n",
      "  File \"/usr/local/Cellar/python/3.7.4/Frameworks/Python.framework/Versions/3.7/lib/python3.7/multiprocessing/process.py\", line 99, in run\n",
      "    self._target(*self._args, **self._kwargs)\n",
      "Traceback (most recent call last):\n",
      "  File \"/usr/local/Cellar/python/3.7.4/Frameworks/Python.framework/Versions/3.7/lib/python3.7/multiprocessing/process.py\", line 297, in _bootstrap\n",
      "    self.run()\n",
      "  File \"/usr/local/lib/python3.7/site-packages/parsl/executors/high_throughput/interchange.py\", line 564, in starter\n",
      "    ic.start()\n",
      "  File \"/usr/local/lib/python3.7/site-packages/parsl/executors/high_throughput/interchange.py\", line 367, in start\n",
      "    self.socks = dict(poller.poll(timeout=poll_period))\n",
      "  File \"/usr/local/lib/python3.7/site-packages/zmq/sugar/poll.py\", line 99, in poll\n",
      "    return zmq_poll(self.sockets, timeout=timeout)\n",
      "  File \"zmq/backend/cython/_poll.pyx\", line 123, in zmq.backend.cython._poll.zmq_poll\n",
      "  File \"zmq/backend/cython/checkrc.pxd\", line 12, in zmq.backend.cython.checkrc._check_rc\n",
      "KeyboardInterrupt\n"
     ]
    }
   ],
   "source": [
    "import numpy as np\n",
    "import random\n",
    "import time\n",
    "\n",
    "import parsl\n",
    "import os\n",
    "from parsl.app.app import python_app, bash_app\n",
    "from parsl.providers import LocalProvider\n",
    "from parsl.channels import LocalChannel\n",
    "\n",
    "from parsl.config import Config\n",
    "from parsl.executors import HighThroughputExecutor\n",
    "\n",
    "config = Config(\n",
    "    executors=[\n",
    "        HighThroughputExecutor(\n",
    "            label=\"htex_local\",\n",
    "            cores_per_worker=1,\n",
    "            provider=LocalProvider(\n",
    "                channel=LocalChannel(),\n",
    "                init_blocks=1,\n",
    "                max_blocks=1,\n",
    "            ),\n",
    "        )\n",
    "    ],\n",
    ")\n",
    "\n",
    "parsl.load(config)"
   ]
  },
  {
   "cell_type": "markdown",
   "metadata": {},
   "source": [
    "### Map Reduce"
   ]
  },
  {
   "cell_type": "markdown",
   "metadata": {},
   "source": [
    "A map reduce is a technique to execute multiple parallel jobs on a dataset to reduce the size of the dataset before executing a final function to get the result. A Map reduce is a more complicated version of synchronisation."
   ]
  },
  {
   "cell_type": "markdown",
   "metadata": {},
   "source": [
    "Let's consider a simple example where we are given multiple lists and we want to select the lists with the highest standard deviation."
   ]
  },
  {
   "cell_type": "markdown",
   "metadata": {},
   "source": [
    "![](./images/map_reduce.png)"
   ]
  },
  {
   "cell_type": "code",
   "execution_count": 3,
   "metadata": {},
   "outputs": [],
   "source": [
    "# A python app to compute the standard deviation of the inputs\n",
    "@python_app\n",
    "def standard_deviation(inputs=[]):\n",
    "    import numpy as np\n",
    "    return np.std(inputs)"
   ]
  },
  {
   "cell_type": "code",
   "execution_count": 4,
   "metadata": {},
   "outputs": [],
   "source": [
    "# A function to construct data that is a list of lists, each each list having 100 random numbers\n",
    "\n",
    "def make_data():\n",
    "    lists = []\n",
    "    \n",
    "    for _ in range(100):\n",
    "        new_list = []\n",
    "        \n",
    "        for __ in range(100):\n",
    "            new_list.append(random.random()*100)\n",
    "            \n",
    "        lists.append(new_list)\n",
    "    return lists\n",
    "\n",
    "our_data = make_data()"
   ]
  },
  {
   "cell_type": "markdown",
   "metadata": {},
   "source": [
    "### Parallel Execution"
   ]
  },
  {
   "cell_type": "code",
   "execution_count": null,
   "metadata": {},
   "outputs": [],
   "source": [
    "# Computing the standard deviations for each list\n",
    "\n",
    "start1 = time.time()\n",
    "\n",
    "standard_deviations = []\n",
    "\n",
    "for i in our_data:\n",
    "    standard_deviations.append(standard_deviation(inputs=i))\n",
    "\n",
    "# Finding the maximum standard deviation\n",
    "standard_deviations = [i.result() for i in standard_deviations]\n",
    "print('Maximum Standard Deviation: ', max(standard_deviations))\n",
    "\n",
    "# Finding the list with the maximum standard deviation\n",
    "maximum = max(standard_deviations)\n",
    "print('Target List Number:', standard_deviations.index(maximum))\n",
    "\n",
    "end1 = time.time()"
   ]
  },
  {
   "cell_type": "markdown",
   "metadata": {},
   "source": [
    "# Hashing"
   ]
  },
  {
   "cell_type": "markdown",
   "metadata": {},
   "source": [
    "We'll be using a simple hash function to store elements in our database. We'll evaluate the hash values in parallel and then store the items in those locations."
   ]
  },
  {
   "cell_type": "code",
   "execution_count": null,
   "metadata": {},
   "outputs": [],
   "source": [
    "database = [0 for i in range(1000)]  # An empty database"
   ]
  },
  {
   "cell_type": "code",
   "execution_count": 4,
   "metadata": {},
   "outputs": [],
   "source": [
    "@python_app \n",
    "def hash_function(element):\n",
    "    import hashlib # importing all the libraries inside the remote function\n",
    "    number = int(hashlib.md5(element).hexdigest()[:8], 16)%1000   # Creating a hash index\n",
    "    return number"
   ]
  },
  {
   "cell_type": "markdown",
   "metadata": {
    "tags": []
   },
   "source": [
    "### Parallel Execution"
   ]
  },
  {
   "cell_type": "code",
   "execution_count": null,
   "metadata": {},
   "outputs": [],
   "source": [
    "import random\n",
    "\n",
    "elements = []\n",
    "\n",
    "for i in range(100):\n",
    "    element = '' \n",
    "    for _ in range(5):\n",
    "        element += random.choice('abcdefghijklmopqrstuvwxyz')\n",
    "    element = element.encode() # Making a 5 letter element\n",
    "    elements.append(element) # collecting 100 such elements\n",
    "\n",
    "start1 = time.time()   \n",
    "hashes = []\n",
    "for i in elements: # Updating the database for all the elements\n",
    "    hashes.append(hash_function(i))\n",
    "\n",
    "hashes = [i.result() for i in hashes]\n",
    "\n",
    "for i in range(len(elements)):\n",
    "    database[hashes[i]] = elements[i]\n",
    "\n",
    "end1 = time.time()"
   ]
  },
  {
   "cell_type": "markdown",
   "metadata": {},
   "source": [
    "Note that this still doesn't solve the problem of overlap of elements. Chaining is the alternative here but in order to implement chaining, we have to evaluate the results which breaks the parallel thread."
   ]
  },
  {
   "cell_type": "markdown",
   "metadata": {},
   "source": [
    "## Montage Mosaic"
   ]
  },
  {
   "cell_type": "markdown",
   "metadata": {},
   "source": [
    "This Python script has been inspired from the [Montage Wrapper Documentation](https://montage-wrapper.readthedocs.io/en/v0.9.5) and the [tutorial](http://montage.ipac.caltech.edu/docs/first_mosaic_tutorial.html) for the Montage Mosaic."
   ]
  },
  {
   "cell_type": "code",
   "execution_count": 13,
   "metadata": {},
   "outputs": [
    {
     "ename": "ValueError",
     "evalue": "MPI command does not include {n_proc}",
     "output_type": "error",
     "traceback": [
      "\u001b[0;31m---------------------------------------------------------------------------\u001b[0m",
      "\u001b[0;31mValueError\u001b[0m                                Traceback (most recent call last)",
      "\u001b[0;32m<ipython-input-13-4c05c7f39f4a>\u001b[0m in \u001b[0;36m<module>\u001b[0;34m\u001b[0m\n\u001b[1;32m      1\u001b[0m \u001b[0;32mimport\u001b[0m \u001b[0mmontage_wrapper\u001b[0m \u001b[0;32mas\u001b[0m \u001b[0mmontage\u001b[0m\u001b[0;34m\u001b[0m\u001b[0;34m\u001b[0m\u001b[0m\n\u001b[0;32m----> 2\u001b[0;31m \u001b[0mmontage\u001b[0m\u001b[0;34m.\u001b[0m\u001b[0mset_mpi_command\u001b[0m\u001b[0;34m(\u001b[0m\u001b[0;34m'mpiexec -n 4 {executable}'\u001b[0m\u001b[0;34m)\u001b[0m\u001b[0;34m\u001b[0m\u001b[0;34m\u001b[0m\u001b[0m\n\u001b[0m\u001b[1;32m      3\u001b[0m \u001b[0;34m\u001b[0m\u001b[0m\n\u001b[1;32m      4\u001b[0m \u001b[0;32mfrom\u001b[0m \u001b[0mmontage_wrapper\u001b[0m\u001b[0;34m.\u001b[0m\u001b[0mmpi\u001b[0m \u001b[0;32mimport\u001b[0m \u001b[0mMPI_COMMAND\u001b[0m\u001b[0;34m\u001b[0m\u001b[0;34m\u001b[0m\u001b[0m\n\u001b[1;32m      5\u001b[0m \u001b[0mMPI_COMMAND\u001b[0m\u001b[0;34m\u001b[0m\u001b[0;34m\u001b[0m\u001b[0m\n",
      "\u001b[0;32m/usr/local/lib/python3.7/site-packages/montage_wrapper/mpi.py\u001b[0m in \u001b[0;36mset_mpi_command\u001b[0;34m(command)\u001b[0m\n\u001b[1;32m     26\u001b[0m     \u001b[0;32mglobal\u001b[0m \u001b[0mMPI_COMMAND\u001b[0m\u001b[0;34m\u001b[0m\u001b[0;34m\u001b[0m\u001b[0m\n\u001b[1;32m     27\u001b[0m     \u001b[0;32mif\u001b[0m \u001b[0;34m\"{n_proc}\"\u001b[0m \u001b[0;32mnot\u001b[0m \u001b[0;32min\u001b[0m \u001b[0mcommand\u001b[0m\u001b[0;34m:\u001b[0m\u001b[0;34m\u001b[0m\u001b[0;34m\u001b[0m\u001b[0m\n\u001b[0;32m---> 28\u001b[0;31m         \u001b[0;32mraise\u001b[0m \u001b[0mValueError\u001b[0m\u001b[0;34m(\u001b[0m\u001b[0;34m\"MPI command does not include {n_proc}\"\u001b[0m\u001b[0;34m)\u001b[0m\u001b[0;34m\u001b[0m\u001b[0;34m\u001b[0m\u001b[0m\n\u001b[0m\u001b[1;32m     29\u001b[0m     \u001b[0;32mif\u001b[0m \u001b[0;34m\"{executable}\"\u001b[0m \u001b[0;32mnot\u001b[0m \u001b[0;32min\u001b[0m \u001b[0mcommand\u001b[0m\u001b[0;34m:\u001b[0m\u001b[0;34m\u001b[0m\u001b[0;34m\u001b[0m\u001b[0m\n\u001b[1;32m     30\u001b[0m         \u001b[0;32mraise\u001b[0m \u001b[0mValueError\u001b[0m\u001b[0;34m(\u001b[0m\u001b[0;34m\"MPI command does not include {executable}\"\u001b[0m\u001b[0;34m)\u001b[0m\u001b[0;34m\u001b[0m\u001b[0;34m\u001b[0m\u001b[0m\n",
      "\u001b[0;31mValueError\u001b[0m: MPI command does not include {n_proc}"
     ]
    }
   ],
   "source": [
    "import montage_wrapper as montage\n",
    "montage.set_mpi_command('mpiexec -n {n_proc} {executable}')\n",
    "\n",
    "from montage_wrapper.mpi import MPI_COMMAND\n",
    "MPI_COMMAND"
   ]
  },
  {
   "cell_type": "markdown",
   "metadata": {},
   "source": [
    "### First Part"
   ]
  },
  {
   "cell_type": "code",
   "execution_count": 7,
   "metadata": {},
   "outputs": [],
   "source": [
    "import os\n",
    "cwd = os.getcwd()\n",
    "from parsl.data_provider.files import File"
   ]
  },
  {
   "cell_type": "code",
   "execution_count": 8,
   "metadata": {
    "scrolled": true
   },
   "outputs": [
    {
     "name": "stdout",
     "output_type": "stream",
     "text": [
      "x Kimages/\n",
      "x Kimages/aK_asky_000928s0130044.fits\n",
      "x Kimages/aK_asky_000928s0130056.fits\n",
      "x Kimages/aK_asky_000928s0130068.fits\n",
      "x Kimages/aK_asky_000928s0130080.fits\n",
      "x Kimages/aK_asky_000928s0130092.fits\n",
      "x Kimages/aK_asky_000928s0130103.fits\n",
      "x Kimages/aK_asky_000928s0130115.fits\n",
      "x Kimages/aK_asky_990502s1300162.fits\n",
      "x Kimages/aK_asky_990502s1300174.fits\n",
      "x Kimages/aK_asky_990502s1300186.fits\n",
      "x Kimages/aK_asky_990502s1300198.fits\n",
      "x Kimages/aK_asky_990502s1300209.fits\n",
      "x Kimages/aK_asky_990502s1300221.fits\n",
      "x Kimages/aK_asky_990502s1310044.fits\n",
      "x Kimages/aK_asky_990502s1310056.fits\n",
      "x Kimages/aK_asky_990502s1310068.fits\n",
      "x Kimages/aK_asky_990502s1310080.fits\n",
      "x Kimages/aK_asky_990502s1310092.fits\n",
      "x Kimages/aK_asky_990502s1310103.fits\n",
      "x Kimages/aK_asky_990502s1310115.fits\n",
      "x Kimages/aK_asky_990502s1320162.fits\n",
      "x Kimages/aK_asky_990502s1320174.fits\n",
      "x Kimages/aK_asky_990502s1320186.fits\n",
      "x Kimages/aK_asky_990502s1320198.fits\n",
      "x Kimages/aK_asky_990502s1320209.fits\n",
      "x Kimages/aK_asky_990502s1320221.fits\n",
      "x Kimages/aK_asky_990502s1330044.fits\n",
      "x Kimages/aK_asky_990502s1330056.fits\n",
      "x Kimages/aK_asky_990502s1330068.fits\n",
      "x Kimages/aK_asky_990502s1330080.fits\n",
      "x Kimages/aK_asky_990502s1330092.fits\n",
      "x Kimages/aK_asky_990502s1330103.fits\n",
      "x Kimages/aK_asky_990502s1330115.fits\n",
      "x Kimages/aK_asky_990502s1340162.fits\n",
      "x Kimages/aK_asky_990502s1340174.fits\n",
      "x Kimages/aK_asky_990502s1340186.fits\n",
      "x Kimages/aK_asky_990502s1340198.fits\n",
      "x Kimages/aK_asky_990502s1340209.fits\n",
      "x Kimages/aK_asky_990502s1340221.fits\n",
      "x Kimages/aK_asky_990502s1350044.fits\n",
      "x Kimages/aK_asky_990502s1350056.fits\n",
      "x Kimages/aK_asky_990502s1350068.fits\n",
      "x Kimages/aK_asky_990502s1350080.fits\n",
      "x Kimages/aK_asky_990502s1350092.fits\n",
      "x Kimages/aK_asky_990502s1350103.fits\n",
      "x Kimages/aK_asky_990502s1350115.fits\n",
      "x Kimages/aK_asky_990502s1420162.fits\n",
      "x Kimages/aK_asky_990502s1420174.fits\n",
      "x Kimages/aK_asky_990502s1420186.fits\n",
      "x Kimages/aK_asky_990502s1420198.fits\n",
      "x Kimages/aK_asky_990502s1420209.fits\n",
      "x Kimages/aK_asky_990502s1420221.fits\n",
      "x Kimages/aK_asky_990502s1430044.fits\n",
      "x Kimages/aK_asky_990502s1430056.fits\n",
      "x Kimages/aK_asky_990502s1430068.fits\n",
      "x Kimages/aK_asky_990502s1430080.fits\n",
      "x Kimages/aK_asky_990502s1430092.fits\n",
      "x Kimages/aK_asky_990502s1430103.fits\n",
      "x Kimages/aK_asky_990502s1430115.fits\n",
      "x Kimages/aK_asky_990502s1440162.fits\n",
      "x Kimages/aK_asky_990502s1440174.fits\n",
      "x Kimages/aK_asky_990502s1440186.fits\n",
      "x Kimages/aK_asky_990502s1440198.fits\n",
      "x Kimages/aK_asky_990502s1440209.fits\n",
      "x Kimages/aK_asky_990502s1440221.fits\n",
      "x Kimages/aK_asky_990502s1450044.fits\n",
      "x Kimages/aK_asky_990502s1450056.fits\n",
      "x Kimages/aK_asky_990502s1450068.fits\n",
      "x Kimages/aK_asky_990502s1450080.fits\n",
      "x Kimages/aK_asky_990502s1450092.fits\n",
      "x Kimages/aK_asky_990502s1450103.fits\n",
      "x Kimages/aK_asky_990502s1450115.fits\n",
      "x Kimages/aK_asky_990502s1460162.fits\n",
      "x Kimages/aK_asky_990502s1460174.fits\n",
      "x Kimages/aK_asky_990502s1460186.fits\n",
      "x Kimages/aK_asky_990502s1460198.fits\n",
      "x Kimages/aK_asky_990502s1460209.fits\n",
      "x Kimages/aK_asky_990502s1460221.fits\n",
      "x Kimages/aK_asky_990502s1470044.fits\n",
      "x Kimages/aK_asky_990502s1470056.fits\n",
      "x Kimages/aK_asky_990502s1470068.fits\n",
      "x Kimages/aK_asky_990502s1470080.fits\n",
      "x Kimages/aK_asky_990502s1470092.fits\n",
      "x Kimages/aK_asky_990502s1470103.fits\n",
      "x Kimages/aK_asky_990502s1470115.fits\n",
      "x Kimages/aK_asky_990502s1480162.fits\n",
      "x Kimages/aK_asky_990502s1480174.fits\n",
      "x Kimages/aK_asky_990502s1480186.fits\n",
      "x Kimages/aK_asky_990502s1480198.fits\n",
      "x Kimages/aK_asky_990502s1480209.fits\n",
      "x Kimages/aK_asky_990502s1480221.fits\n"
     ]
    }
   ],
   "source": [
    "!tar xvf Kimages.tar"
   ]
  },
  {
   "cell_type": "code",
   "execution_count": 9,
   "metadata": {},
   "outputs": [
    {
     "data": {
      "text/plain": [
       "stat : OK\n",
       "count : 91\n",
       "badfits : 0\n",
       "badwcs : 0"
      ]
     },
     "execution_count": 9,
     "metadata": {},
     "output_type": "execute_result"
    }
   ],
   "source": [
    "montage.mImgtbl(os.path.join(cwd,'Kimages/'),\n",
    "                File(os.path.join(cwd,'Kimages.tbl')))"
   ]
  },
  {
   "cell_type": "code",
   "execution_count": 10,
   "metadata": {},
   "outputs": [
    {
     "data": {
      "text/plain": [
       "stat : OK\n",
       "msg : Cube columns exist but are either blank or inconsistent. Outputting 2D only.\n",
       "count : 91\n",
       "ncube : 0\n",
       "naxis1 : 6110\n",
       "naxis2 : 6857\n",
       "clon : 275.185261\n",
       "clat : -16.248875\n",
       "lonsize : 1.697222\n",
       "latsize : 1.904722\n",
       "posang : 359.953803\n",
       "lon1 : 276.072612\n",
       "lat1 : -17.199892\n",
       "lon2 : 274.296309\n",
       "lat2 : -17.198517\n",
       "lon3 : 274.306471\n",
       "lat3 : -15.294203\n",
       "lon4 : 276.065648\n",
       "lat4 : -15.295564"
      ]
     },
     "execution_count": 10,
     "metadata": {},
     "output_type": "execute_result"
    }
   ],
   "source": [
    "montage.mMakeHdr(File(os.path.join(cwd,'Kimages.tbl')),\n",
    "                 File(os.path.join(cwd,'Ktemplate.hdr')))"
   ]
  },
  {
   "cell_type": "code",
   "execution_count": 11,
   "metadata": {},
   "outputs": [],
   "source": [
    "os.mkdir(os.path.join(cwd,'Kprojdir/'))"
   ]
  },
  {
   "cell_type": "code",
   "execution_count": 20,
   "metadata": {},
   "outputs": [
    {
     "ename": "Exception",
     "evalue": "b'--------------------------------------------------------------------------\\nmpiexec was unable to find the specified executable file, and therefore\\ndid not launch the job.  This error was first reported for process\\nrank 0; it may have occurred for other processes as well.\\n\\nNOTE: A common cause for this error is misspelling a mpiexec command\\n      line parameter option (remember that mpiexec interprets the first\\n      unrecognized command line token as the executable).\\n\\nNode:       Sohits-MacBook-Pro\\nExecutable: mProjExecMPI\\n--------------------------------------------------------------------------\\n'",
     "output_type": "error",
     "traceback": [
      "\u001b[0;31m---------------------------------------------------------------------------\u001b[0m",
      "\u001b[0;31mException\u001b[0m                                 Traceback (most recent call last)",
      "\u001b[0;32m<ipython-input-20-007414803586>\u001b[0m in \u001b[0;36m<module>\u001b[0;34m\u001b[0m\n\u001b[1;32m      2\u001b[0m                   \u001b[0mFile\u001b[0m\u001b[0;34m(\u001b[0m\u001b[0mos\u001b[0m\u001b[0;34m.\u001b[0m\u001b[0mpath\u001b[0m\u001b[0;34m.\u001b[0m\u001b[0mjoin\u001b[0m\u001b[0;34m(\u001b[0m\u001b[0mcwd\u001b[0m\u001b[0;34m,\u001b[0m\u001b[0;34m'Ktemplate.hdr'\u001b[0m\u001b[0;34m)\u001b[0m\u001b[0;34m)\u001b[0m\u001b[0;34m,\u001b[0m\u001b[0;34m\u001b[0m\u001b[0;34m\u001b[0m\u001b[0m\n\u001b[1;32m      3\u001b[0m                   \u001b[0mos\u001b[0m\u001b[0;34m.\u001b[0m\u001b[0mpath\u001b[0m\u001b[0;34m.\u001b[0m\u001b[0mjoin\u001b[0m\u001b[0;34m(\u001b[0m\u001b[0mcwd\u001b[0m\u001b[0;34m,\u001b[0m\u001b[0;34m'Kprojdir/'\u001b[0m\u001b[0;34m)\u001b[0m\u001b[0;34m,\u001b[0m\u001b[0;34m\u001b[0m\u001b[0;34m\u001b[0m\u001b[0m\n\u001b[0;32m----> 4\u001b[0;31m                   File(os.path.join(cwd,'stats.tbl')),mpi=True,n_proc=2)\n\u001b[0m",
      "\u001b[0;32m/usr/local/lib/python3.7/site-packages/montage_wrapper/commands.py\u001b[0m in \u001b[0;36mmProjExec\u001b[0;34m(images_table, template_header, proj_dir, stats_table, raw_dir, debug, exact, whole, border, restart_rec, status_file, scale_column, mpi, n_proc)\u001b[0m\n\u001b[1;32m   1834\u001b[0m     \u001b[0mstderr\u001b[0m \u001b[0;34m=\u001b[0m \u001b[0mp\u001b[0m\u001b[0;34m.\u001b[0m\u001b[0mstderr\u001b[0m\u001b[0;34m.\u001b[0m\u001b[0mread\u001b[0m\u001b[0;34m(\u001b[0m\u001b[0;34m)\u001b[0m\u001b[0;34m\u001b[0m\u001b[0;34m\u001b[0m\u001b[0m\n\u001b[1;32m   1835\u001b[0m     \u001b[0;32mif\u001b[0m \u001b[0mstderr\u001b[0m\u001b[0;34m:\u001b[0m\u001b[0;34m\u001b[0m\u001b[0;34m\u001b[0m\u001b[0m\n\u001b[0;32m-> 1836\u001b[0;31m         \u001b[0;32mraise\u001b[0m \u001b[0mException\u001b[0m\u001b[0;34m(\u001b[0m\u001b[0mstderr\u001b[0m\u001b[0;34m)\u001b[0m\u001b[0;34m\u001b[0m\u001b[0;34m\u001b[0m\u001b[0m\n\u001b[0m\u001b[1;32m   1837\u001b[0m     \u001b[0;32mreturn\u001b[0m \u001b[0mstatus\u001b[0m\u001b[0;34m.\u001b[0m\u001b[0mparse_struct\u001b[0m\u001b[0;34m(\u001b[0m\u001b[0;34m\"mProjExec\"\u001b[0m\u001b[0;34m,\u001b[0m \u001b[0mp\u001b[0m\u001b[0;34m.\u001b[0m\u001b[0mstdout\u001b[0m\u001b[0;34m.\u001b[0m\u001b[0mread\u001b[0m\u001b[0;34m(\u001b[0m\u001b[0;34m)\u001b[0m\u001b[0;34m.\u001b[0m\u001b[0mstrip\u001b[0m\u001b[0;34m(\u001b[0m\u001b[0;34m)\u001b[0m\u001b[0;34m)\u001b[0m\u001b[0;34m\u001b[0m\u001b[0;34m\u001b[0m\u001b[0m\n\u001b[1;32m   1838\u001b[0m \u001b[0;34m\u001b[0m\u001b[0m\n",
      "\u001b[0;31mException\u001b[0m: b'--------------------------------------------------------------------------\\nmpiexec was unable to find the specified executable file, and therefore\\ndid not launch the job.  This error was first reported for process\\nrank 0; it may have occurred for other processes as well.\\n\\nNOTE: A common cause for this error is misspelling a mpiexec command\\n      line parameter option (remember that mpiexec interprets the first\\n      unrecognized command line token as the executable).\\n\\nNode:       Sohits-MacBook-Pro\\nExecutable: mProjExecMPI\\n--------------------------------------------------------------------------\\n'"
     ]
    }
   ],
   "source": [
    "montage.mProjExec(File(os.path.join(cwd,'Kimages.tbl')),\n",
    "                  File(os.path.join(cwd,'Ktemplate.hdr')),\n",
    "                  os.path.join(cwd,'Kprojdir/'),\n",
    "                  File(os.path.join(cwd,'stats.tbl')), mpi=True, n_proc=2)"
   ]
  },
  {
   "cell_type": "code",
   "execution_count": null,
   "metadata": {},
   "outputs": [],
   "source": [
    "montage.mImgtbl(os.path.join(cwd,'Kprojdir/'),\n",
    "                File(os.path.join(cwd,'images.tbl')))"
   ]
  },
  {
   "cell_type": "code",
   "execution_count": null,
   "metadata": {},
   "outputs": [],
   "source": [
    "montage.mAdd( File(os.path.join(cwd,'images.tbl')), \n",
    "              File(os.path.join(cwd,'Ktemplate.hdr')), \n",
    "              File(os.path.join(cwd,'m17_uncorrected.fits')), mpi=True, n_proc=2)"
   ]
  },
  {
   "cell_type": "code",
   "execution_count": null,
   "metadata": {},
   "outputs": [],
   "source": [
    "!mViewer -ct 1 -gray m17_uncorrected.fits -1s max gaussian-log -out m17_uncorrected.png"
   ]
  },
  {
   "cell_type": "markdown",
   "metadata": {},
   "source": [
    "![](./images/m17_uncorrected.png)"
   ]
  },
  {
   "cell_type": "markdown",
   "metadata": {},
   "source": [
    "### Second Part"
   ]
  },
  {
   "cell_type": "code",
   "execution_count": null,
   "metadata": {},
   "outputs": [],
   "source": [
    "montage.mOverlaps(File(os.path.join(cwd,'images.tbl')),\n",
    "                  File(os.path.join(cwd,'diffs.tbl')))"
   ]
  },
  {
   "cell_type": "code",
   "execution_count": null,
   "metadata": {},
   "outputs": [],
   "source": [
    "os.mkdir(os.path.join(cwd,'diffdir/'))"
   ]
  },
  {
   "cell_type": "code",
   "execution_count": null,
   "metadata": {},
   "outputs": [],
   "source": [
    "montage.mDiffExec(File(os.path.join(cwd,'diffs.tbl')), \n",
    "                  File(os.path.join(cwd,'Ktemplate.hdr')), \n",
    "                  os.path.join(cwd,'diffdir/'),\n",
    "                  proj_dir=os.path.join(cwd,'Kprojdir/'))"
   ]
  },
  {
   "cell_type": "code",
   "execution_count": null,
   "metadata": {},
   "outputs": [],
   "source": [
    "montage.mFitExec(File(os.path.join(cwd,'diffs.tbl')), \n",
    "                 File(os.path.join(cwd,'fits.tbl')), \n",
    "                 os.path.join(cwd,'diffdir/'))"
   ]
  },
  {
   "cell_type": "code",
   "execution_count": null,
   "metadata": {},
   "outputs": [],
   "source": [
    "montage.mBgModel(File(os.path.join(cwd,'images.tbl')), \n",
    "                 File(os.path.join(cwd,'fits.tbl')), \n",
    "                 File(os.path.join(cwd,'corrections.tbl')))"
   ]
  },
  {
   "cell_type": "code",
   "execution_count": null,
   "metadata": {},
   "outputs": [],
   "source": [
    "os.mkdir(os.path.join(cwd,'corrdir'))"
   ]
  },
  {
   "cell_type": "code",
   "execution_count": null,
   "metadata": {},
   "outputs": [],
   "source": [
    "montage.mBgExec(File(os.path.join(cwd,'images.tbl')), \n",
    "                File(os.path.join(cwd,'corrections.tbl')), \n",
    "                os.path.join(cwd,'corrdir'), \n",
    "                proj_dir=os.path.join(cwd,'Kprojdir'))"
   ]
  },
  {
   "cell_type": "code",
   "execution_count": null,
   "metadata": {},
   "outputs": [],
   "source": [
    "montage.mAdd(File(os.path.join(cwd,'images.tbl')), \n",
    "             File(os.path.join(cwd,'Ktemplate.hdr')), \n",
    "             File(os.path.join(cwd,'m17.fits')))"
   ]
  },
  {
   "cell_type": "code",
   "execution_count": null,
   "metadata": {},
   "outputs": [],
   "source": [
    "!mViewer -ct 1 -gray m17.fits -1s max gaussian-log -out m17.png"
   ]
  },
  {
   "cell_type": "markdown",
   "metadata": {},
   "source": [
    "![](./images/m17.png)"
   ]
  }
 ],
 "metadata": {
  "kernelspec": {
   "display_name": "Python 3",
   "language": "python",
   "name": "python3"
  },
  "language_info": {
   "codemirror_mode": {
    "name": "ipython",
    "version": 3
   },
   "file_extension": ".py",
   "mimetype": "text/x-python",
   "name": "python",
   "nbconvert_exporter": "python",
   "pygments_lexer": "ipython3",
   "version": "3.7.4"
  }
 },
 "nbformat": 4,
 "nbformat_minor": 2
}
