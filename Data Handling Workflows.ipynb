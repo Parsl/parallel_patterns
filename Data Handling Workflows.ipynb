{
 "cells": [
  {
   "cell_type": "markdown",
   "metadata": {},
   "source": [
    "# Data Handling Workflows"
   ]
  },
  {
   "cell_type": "markdown",
   "metadata": {},
   "source": [
    "### Importing Libraries and Configuration"
   ]
  },
  {
   "cell_type": "markdown",
   "metadata": {},
   "source": [
    "We'll be using the htex configuration for Parsl. Read more [here.]( https://github.com/Parsl/parsl/blob/master/parsl/configs/htex_local.py)"
   ]
  },
  {
   "cell_type": "code",
   "execution_count": 1,
   "metadata": {},
   "outputs": [
    {
     "data": {
      "text/plain": [
       "<parsl.dataflow.dflow.DataFlowKernel at 0x11b427f10>"
      ]
     },
     "execution_count": 1,
     "metadata": {},
     "output_type": "execute_result"
    }
   ],
   "source": [
    "import numpy as np\n",
    "\n",
    "import parsl\n",
    "import os\n",
    "from parsl.app.app import python_app, bash_app\n",
    "from parsl.configs.local_threads import config\n",
    "\n",
    "parsl.load(config)"
   ]
  },
  {
   "cell_type": "markdown",
   "metadata": {},
   "source": [
    "### Map Reduce"
   ]
  },
  {
   "cell_type": "markdown",
   "metadata": {},
   "source": [
    "A map reduce is a technique to execute multiple parallel jobs on a dataset to reduce the size of the dataset before executing a final function to get the result. A Map reduce is a more complicated version of synchronisation."
   ]
  },
  {
   "cell_type": "markdown",
   "metadata": {},
   "source": [
    "Let's consider a simple example where we are given multiple lists and we want to select the lists with the highest standard deviation."
   ]
  },
  {
   "cell_type": "markdown",
   "metadata": {},
   "source": [
    "![](./images/map_reduce.png)"
   ]
  },
  {
   "cell_type": "code",
   "execution_count": 2,
   "metadata": {},
   "outputs": [],
   "source": [
    "# A python app to compute the standard deviation of the inputs\n",
    "@python_app\n",
    "def standard_deviation(inputs=[]):\n",
    "    import numpy as np\n",
    "    return np.std(inputs)"
   ]
  },
  {
   "cell_type": "code",
   "execution_count": 3,
   "metadata": {},
   "outputs": [],
   "source": [
    "import random\n",
    "# A function to construct data that is a list of lists, each each list having 100 random numbers\n",
    "\n",
    "def make_data():\n",
    "    lists = []\n",
    "    \n",
    "    for _ in range(100):\n",
    "        new_list = []\n",
    "        \n",
    "        for __ in range(100):\n",
    "            new_list.append(random.random()*100)\n",
    "            \n",
    "        lists.append(new_list)\n",
    "    return lists\n",
    "\n",
    "our_data = make_data()"
   ]
  },
  {
   "cell_type": "code",
   "execution_count": 4,
   "metadata": {},
   "outputs": [],
   "source": [
    "# Computing the standard deviations for each list\n",
    "\n",
    "standard_deviations = []\n",
    "\n",
    "for i in our_data:\n",
    "    standard_deviations.append(standard_deviation(i))"
   ]
  },
  {
   "cell_type": "code",
   "execution_count": 5,
   "metadata": {},
   "outputs": [
    {
     "name": "stdout",
     "output_type": "stream",
     "text": [
      "Maximum Standard Deviation:  31.95613285570822\n"
     ]
    }
   ],
   "source": [
    "# Finding the maximum standard deviation\n",
    "\n",
    "standard_deviations = [i.result() for i in standard_deviations]\n",
    "print('Maximum Standard Deviation: ', max(standard_deviations))"
   ]
  },
  {
   "cell_type": "code",
   "execution_count": 6,
   "metadata": {},
   "outputs": [
    {
     "name": "stdout",
     "output_type": "stream",
     "text": [
      "Target List Number: 40\n"
     ]
    }
   ],
   "source": [
    "# Finding the list with the maximum standard deviation\n",
    "\n",
    "maximum = max(standard_deviations)\n",
    "print('Target List Number:', standard_deviations.index(maximum))"
   ]
  },
  {
   "cell_type": "markdown",
   "metadata": {},
   "source": [
    "# Hashing"
   ]
  },
  {
   "cell_type": "markdown",
   "metadata": {},
   "source": [
    "We'll be using a simple hash function to store elements in our database. We'll evaluate the hash values in parallel and then store the items in those locations."
   ]
  },
  {
   "cell_type": "code",
   "execution_count": 2,
   "metadata": {},
   "outputs": [],
   "source": [
    "database = [0 for i in range(1000)]  # An empty database"
   ]
  },
  {
   "cell_type": "code",
   "execution_count": 3,
   "metadata": {},
   "outputs": [],
   "source": [
    "@python_app \n",
    "def hash_function(element):\n",
    "    import hashlib\n",
    "    number = int(hashlib.md5(element).hexdigest()[:8], 16)%1000   # Creating a hash index\n",
    "    return number"
   ]
  },
  {
   "cell_type": "code",
   "execution_count": 4,
   "metadata": {},
   "outputs": [],
   "source": [
    "import random\n",
    "\n",
    "elements = []\n",
    "\n",
    "for i in range(100):\n",
    "    element = '' \n",
    "    for _ in range(5):\n",
    "        element += random.choice('abcdefghijklmopqrstuvwxyz')\n",
    "    element = element.encode() # Making a 5 letter element\n",
    "    elements.append(element) # collecting 100 such elements"
   ]
  },
  {
   "cell_type": "code",
   "execution_count": 5,
   "metadata": {},
   "outputs": [],
   "source": [
    "hashes = []\n",
    "for i in elements: # Updating the database for all the elements\n",
    "    hashes.append(hash_function(i))"
   ]
  },
  {
   "cell_type": "code",
   "execution_count": 7,
   "metadata": {},
   "outputs": [],
   "source": [
    "hashes = [i.result() for i in hashes]"
   ]
  },
  {
   "cell_type": "code",
   "execution_count": 8,
   "metadata": {},
   "outputs": [],
   "source": [
    "for i in range(len(elements)):\n",
    "    database[hashes[i]] = elements[i]"
   ]
  },
  {
   "cell_type": "code",
   "execution_count": 10,
   "metadata": {},
   "outputs": [
    {
     "name": "stdout",
     "output_type": "stream",
     "text": [
      "[0, 0, 0, 0, 0, 0, 0, 0, 0, 0, 0, 0, 0, 0, 0, 0, 0, 0, b'dsray', 0, b'xcbru', 0, b'pehqb', 0, 0, 0, 0, 0, 0, 0, 0, 0, b'cvxyx', 0, 0, 0, 0, 0, 0, 0, 0, 0, 0, 0, 0, 0, 0, 0, 0, 0, 0, 0, 0, b'ocvqj', 0, 0, 0, 0, 0, 0, 0, 0, b'xffqe', b'qfbvz', 0, 0, 0, 0, b'obujt', 0, 0, 0, 0, 0, 0, 0, 0, 0, 0, 0, 0, 0, 0, 0, 0, 0, 0, 0, 0, 0, 0, 0, 0, 0, 0, b'cjlzq', 0, 0, 0, 0, 0, 0, 0, 0, 0, 0, 0, b'zcdah', 0, 0, 0, 0, 0, 0, 0, b'jybmt', 0, 0, 0, 0, 0, 0, 0, 0, 0, 0, 0, 0, 0, 0, 0, 0, 0, 0, 0, b'egazm', 0, 0, b'irpma', 0, 0, 0, 0, 0, 0, 0, 0, 0, 0, 0, b'eezjl', 0, 0, 0, 0, 0, 0, 0, 0, 0, 0, 0, 0, b'skrvr', 0, 0, 0, 0, 0, 0, b'qbfew', 0, 0, 0, 0, 0, 0, 0, b'kjate', 0, 0, 0, 0, 0, 0, 0, 0, 0, b'ejxzg', 0, 0, 0, 0, 0, 0, 0, 0, 0, 0, 0, 0, 0, 0, 0, 0, 0, 0, 0, 0, 0, 0, 0, 0, 0, 0, 0, 0, 0, 0, b'qrblt', 0, 0, 0, 0, b'fzfop', 0, 0, 0, 0, 0, 0, 0, 0, b'ixgim', 0, 0, 0, 0, b'fbpqk', 0, 0, 0, 0, 0, 0, b'lhczd', 0, 0, 0, 0, 0, 0, 0, 0, 0, 0, 0, 0, 0, 0, 0, 0, 0, 0, 0, 0, b'yzemc', 0, 0, 0, 0, 0, 0, 0, 0, b'yclji', 0, 0, 0, 0, 0, 0, 0, 0, 0, 0, 0, 0, 0, 0, 0, 0, 0, 0, 0, 0, b'ydeom', 0, 0, 0, 0, 0, 0, b'huvzh', 0, 0, 0, 0, 0, 0, 0, 0, 0, 0, 0, 0, 0, 0, 0, 0, 0, 0, 0, b'lrflf', 0, 0, 0, 0, 0, b'dcuzj', 0, b'ddgam', 0, 0, b'vasjb', 0, b'iavkc', 0, 0, 0, 0, 0, 0, 0, 0, 0, 0, b'shpeb', 0, 0, 0, 0, 0, 0, 0, 0, 0, 0, 0, 0, 0, 0, 0, 0, 0, 0, 0, b'xmqsk', 0, 0, 0, 0, 0, b'dyvch', 0, 0, 0, 0, 0, 0, 0, 0, 0, 0, b'pxjyk', 0, 0, 0, b'qztvu', 0, 0, 0, b'wwmby', 0, 0, 0, 0, 0, 0, 0, b'vuixa', 0, 0, b'zbotb', 0, 0, 0, 0, 0, b'qzhjr', 0, 0, 0, 0, 0, 0, 0, 0, 0, 0, 0, b'wbmgr', 0, 0, 0, 0, 0, b'oryxs', 0, 0, 0, 0, 0, 0, 0, 0, 0, 0, 0, b'qolxx', 0, 0, 0, 0, 0, b'kjvtm', 0, 0, 0, 0, 0, 0, 0, 0, 0, 0, 0, b'ravzc', 0, 0, 0, 0, 0, 0, 0, 0, 0, 0, 0, 0, 0, 0, 0, 0, 0, 0, 0, 0, 0, 0, 0, 0, 0, 0, 0, 0, 0, 0, 0, 0, 0, 0, b'scgfq', 0, b'wzxqj', 0, 0, 0, 0, 0, 0, 0, 0, 0, 0, b'akrha', b'ehpyg', 0, 0, 0, b'thtta', 0, 0, b'rjdpz', 0, 0, b'upigg', 0, b'kuikz', 0, b'uoxza', 0, 0, 0, 0, 0, 0, 0, 0, 0, 0, 0, 0, 0, 0, 0, 0, 0, 0, 0, 0, 0, 0, 0, 0, 0, 0, 0, 0, 0, 0, b'djfce', 0, 0, 0, 0, 0, 0, 0, 0, 0, 0, 0, 0, 0, b'awaha', 0, 0, 0, 0, b'evukf', 0, 0, 0, 0, 0, 0, 0, 0, 0, 0, 0, 0, 0, 0, b'gxqcb', 0, 0, 0, 0, 0, 0, 0, 0, 0, 0, 0, 0, 0, 0, 0, 0, 0, 0, 0, 0, 0, 0, 0, 0, 0, 0, 0, 0, 0, b'tibti', 0, 0, 0, 0, 0, 0, 0, 0, 0, 0, 0, 0, 0, 0, 0, 0, 0, 0, 0, 0, 0, 0, 0, b'bjljj', b'axxap', 0, 0, 0, 0, 0, 0, 0, b'zrzdo', 0, 0, 0, 0, 0, 0, 0, 0, 0, 0, 0, 0, 0, 0, 0, 0, 0, 0, b'ycoat', 0, 0, 0, 0, 0, 0, 0, 0, 0, 0, 0, 0, 0, 0, b'vtvwv', 0, 0, 0, 0, 0, 0, 0, 0, 0, 0, 0, 0, 0, 0, b'dsvmz', 0, 0, 0, 0, 0, 0, 0, 0, 0, 0, 0, 0, 0, 0, 0, 0, 0, 0, 0, 0, 0, 0, 0, 0, 0, 0, 0, 0, 0, 0, 0, 0, 0, 0, b'wxvcv', 0, 0, 0, 0, 0, 0, 0, 0, 0, 0, 0, 0, 0, 0, 0, b'xvipe', 0, 0, 0, 0, 0, 0, 0, 0, 0, 0, 0, 0, 0, b'yhzlq', 0, 0, 0, 0, b'mkvxs', b'eaeat', 0, 0, 0, 0, 0, 0, 0, 0, 0, 0, 0, 0, 0, 0, 0, 0, 0, 0, 0, 0, 0, b'actus', 0, 0, b'vyvll', 0, 0, 0, 0, 0, 0, 0, 0, 0, 0, 0, b'jdqqu', 0, 0, 0, 0, b'tzlgq', 0, 0, 0, 0, 0, b'xoher', 0, 0, 0, b'yjetl', 0, 0, 0, b'avyjw', 0, 0, 0, 0, 0, 0, 0, 0, 0, 0, 0, 0, 0, 0, 0, 0, 0, 0, 0, 0, 0, 0, 0, 0, b'xkrij', 0, 0, 0, 0, 0, 0, 0, 0, 0, 0, b'mygcs', 0, 0, 0, 0, 0, 0, 0, 0, 0, 0, b'dciby', 0, 0, 0, b'fuffb', 0, 0, 0, b'wxpkg', 0, 0, 0, 0, 0, 0, 0, 0, 0, 0, 0, 0, 0, 0, 0, 0, 0, b'zzqfc', 0, 0, 0, 0, 0, 0, 0, 0, 0, 0, b'axzkj', 0, 0, 0, 0, 0, 0, 0, 0, 0, 0, 0, 0, b'vzaxp', 0, b'yhcgs', 0, 0, b'ohwdo', 0, b'esesv', 0, 0, 0, 0, 0, b'ociis', 0, 0, 0, 0, 0, 0, 0, 0, 0, 0, 0, 0, 0, 0, 0, 0, 0, 0, 0, 0, 0, 0, 0, 0, 0, 0, b'jrgos', 0, 0, 0, 0, 0, 0, 0, 0, 0, 0, b'cyohc', 0, 0, 0, 0, 0, 0, 0, b'achah', 0, b'zljfb', 0, 0, 0, 0, 0, 0, 0, 0, 0, 0, 0, 0, 0, 0, 0, 0, 0]\n"
     ]
    }
   ],
   "source": [
    "print(database)"
   ]
  },
  {
   "cell_type": "markdown",
   "metadata": {},
   "source": [
    "Note that this still doesn't solve the problem of overlap of elements. Chaining is the alternative here but in order to implement chaining, we have to evaluate the results which breaks the parallel thread."
   ]
  },
  {
   "cell_type": "markdown",
   "metadata": {},
   "source": [
    "## Montage Mosaic"
   ]
  },
  {
   "cell_type": "markdown",
   "metadata": {},
   "source": [
    "### First Part"
   ]
  },
  {
   "cell_type": "code",
   "execution_count": 12,
   "metadata": {},
   "outputs": [],
   "source": [
    "import montage_wrapper as montage"
   ]
  },
  {
   "cell_type": "code",
   "execution_count": 13,
   "metadata": {},
   "outputs": [],
   "source": [
    "@bash_app\n",
    "def unzip_images(stdout='echo-hello.stdout', stderr='echo-hello.stderr'):\n",
    "    return 'tar xvf Kimages.tar'"
   ]
  },
  {
   "cell_type": "code",
   "execution_count": 15,
   "metadata": {},
   "outputs": [
    {
     "data": {
      "text/plain": [
       "0"
      ]
     },
     "execution_count": 15,
     "metadata": {},
     "output_type": "execute_result"
    }
   ],
   "source": [
    "unzip_images().result()"
   ]
  },
  {
   "cell_type": "code",
   "execution_count": 16,
   "metadata": {},
   "outputs": [
    {
     "data": {
      "text/plain": [
       "stat : OK\n",
       "count : 91\n",
       "badfits : 0\n",
       "badwcs : 0"
      ]
     },
     "execution_count": 16,
     "metadata": {},
     "output_type": "execute_result"
    }
   ],
   "source": [
    "montage.mImgtbl('Kimages','Kimages.tbl')"
   ]
  },
  {
   "cell_type": "code",
   "execution_count": 20,
   "metadata": {},
   "outputs": [
    {
     "data": {
      "text/plain": [
       "stat : OK\n",
       "msg : Cube columns exist but are either blank or inconsistent. Outputting 2D only.\n",
       "count : 91\n",
       "ncube : 0\n",
       "naxis1 : 6110\n",
       "naxis2 : 6857\n",
       "clon : 275.185261\n",
       "clat : -16.248875\n",
       "lonsize : 1.697222\n",
       "latsize : 1.904722\n",
       "posang : 359.953803\n",
       "lon1 : 276.072612\n",
       "lat1 : -17.199892\n",
       "lon2 : 274.296309\n",
       "lat2 : -17.198517\n",
       "lon3 : 274.306471\n",
       "lat3 : -15.294203\n",
       "lon4 : 276.065648\n",
       "lat4 : -15.295564"
      ]
     },
     "execution_count": 20,
     "metadata": {},
     "output_type": "execute_result"
    }
   ],
   "source": [
    "montage.mMakeHdr('Kimages.tbl','Ktemplate.hdr')"
   ]
  },
  {
   "cell_type": "code",
   "execution_count": 44,
   "metadata": {},
   "outputs": [],
   "source": [
    "os.mkdir('Kprojdir')"
   ]
  },
  {
   "cell_type": "code",
   "execution_count": 45,
   "metadata": {},
   "outputs": [
    {
     "data": {
      "text/plain": [
       "stat : OK\n",
       "count : 91\n",
       "failed : 91\n",
       "nooverlap : 0"
      ]
     },
     "execution_count": 45,
     "metadata": {},
     "output_type": "execute_result"
    }
   ],
   "source": [
    "montage.mProjExec('Kimages.tbl','Ktemplate.hdr','Kprojdir/','stats.tbl')"
   ]
  },
  {
   "cell_type": "code",
   "execution_count": 32,
   "metadata": {},
   "outputs": [
    {
     "data": {
      "text/plain": [
       "stat : OK\n",
       "count : 0\n",
       "badfits : 0\n",
       "badwcs : 0"
      ]
     },
     "execution_count": 32,
     "metadata": {},
     "output_type": "execute_result"
    }
   ],
   "source": [
    "montage.mImgtbl('Kprojdir/','images.tbl')"
   ]
  },
  {
   "cell_type": "code",
   "execution_count": 46,
   "metadata": {},
   "outputs": [],
   "source": [
    "@bash_app\n",
    "def mImgtbl(stdout='echo-hello.stdout', stderr='echo-hello.stderr'):\n",
    "    return 'mImgtbl Kprojdir/ images.tbl'"
   ]
  },
  {
   "cell_type": "code",
   "execution_count": 47,
   "metadata": {},
   "outputs": [
    {
     "data": {
      "text/plain": [
       "0"
      ]
     },
     "execution_count": 47,
     "metadata": {},
     "output_type": "execute_result"
    }
   ],
   "source": [
    "mImgtbl().result()"
   ]
  },
  {
   "cell_type": "code",
   "execution_count": null,
   "metadata": {},
   "outputs": [],
   "source": [
    "montage.mAdd( 'images.tbl' , 'Ktemplate.hdr', 'm17_uncorrected.fits')"
   ]
  },
  {
   "cell_type": "code",
   "execution_count": 51,
   "metadata": {},
   "outputs": [],
   "source": [
    "@bash_app\n",
    "def mViewer(stdout='echo-hello.stdout', stderr='echo-hello.stderr'):\n",
    "    return 'mViewer -ct 1 -gray m17_uncorrected.fits -1s max gaussian-log -out m17_uncorrected.png'"
   ]
  },
  {
   "cell_type": "markdown",
   "metadata": {},
   "source": [
    "### Second Part"
   ]
  },
  {
   "cell_type": "code",
   "execution_count": null,
   "metadata": {},
   "outputs": [],
   "source": [
    "montage.mOverlaps('images.tbl','diffs.tbl')"
   ]
  },
  {
   "cell_type": "code",
   "execution_count": null,
   "metadata": {},
   "outputs": [],
   "source": [
    "montage.mDiffExec('diffs.tbl', 'Ktemplate.hdr', 'diffdir')"
   ]
  },
  {
   "cell_type": "code",
   "execution_count": null,
   "metadata": {},
   "outputs": [],
   "source": [
    "montage.mFitExec('diffs.tbl', 'fits.tbl', 'diffdir')"
   ]
  },
  {
   "cell_type": "code",
   "execution_count": null,
   "metadata": {},
   "outputs": [],
   "source": [
    "montage.mBgModel('images.tbl', 'fits.tbl', 'corrections.tbl')"
   ]
  },
  {
   "cell_type": "code",
   "execution_count": null,
   "metadata": {},
   "outputs": [],
   "source": [
    "montage.mBgExec('images.tbl', 'corrections.tbl', 'corrdir')"
   ]
  },
  {
   "cell_type": "code",
   "execution_count": null,
   "metadata": {},
   "outputs": [],
   "source": [
    "montage.mAdd('images.tbl', 'Ktemplate.hdr', 'm17.fits')"
   ]
  },
  {
   "cell_type": "code",
   "execution_count": null,
   "metadata": {},
   "outputs": [],
   "source": [
    "@bash_app\n",
    "def mViewer2(stdout='echo-hello.stdout', stderr='echo-hello.stderr'):\n",
    "    return 'mViewer -ct 1 -gray m17.fits -1s max gaussian-log -out m17.png'"
   ]
  }
 ],
 "metadata": {
  "kernelspec": {
   "display_name": "Python 3",
   "language": "python",
   "name": "python3"
  },
  "language_info": {
   "codemirror_mode": {
    "name": "ipython",
    "version": 3
   },
   "file_extension": ".py",
   "mimetype": "text/x-python",
   "name": "python",
   "nbconvert_exporter": "python",
   "pygments_lexer": "ipython3",
   "version": "3.7.4"
  }
 },
 "nbformat": 4,
 "nbformat_minor": 2
}
